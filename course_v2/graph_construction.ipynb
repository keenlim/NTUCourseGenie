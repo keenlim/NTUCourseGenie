{
 "cells": [
  {
   "cell_type": "markdown",
   "metadata": {},
   "source": [
    "#### Creation Of Knowledge Graph\n",
    "\n",
    "This notebook will contain ALL the codes to create the knowledge graph. We will be defining nodes and relationships. "
   ]
  },
  {
   "cell_type": "markdown",
   "metadata": {},
   "source": [
    "#### Set up the Knowledge Graph"
   ]
  },
  {
   "cell_type": "code",
   "execution_count": 17,
   "metadata": {},
   "outputs": [],
   "source": [
    "import os\n",
    "from dotenv import load_dotenv\n",
    "from langchain_community.graphs import Neo4jGraph\n",
    "\n",
    "load_dotenv('.env', override=True)\n",
    "NEO4J_URI = os.getenv('NEO4J_URI')\n",
    "NEO4J_USERNAME = os.getenv('NEO4J_USERNAME')\n",
    "NEO4J_PASSWORD = os.getenv('NEO4J_PASSWORD')\n",
    "NEO4J_DATABASE = os.getenv('NEO4J_DATABASE')"
   ]
  },
  {
   "cell_type": "code",
   "execution_count": 18,
   "metadata": {},
   "outputs": [],
   "source": [
    "kg = Neo4jGraph(\n",
    "    url = NEO4J_URI, username = NEO4J_USERNAME, password = NEO4J_PASSWORD, database = NEO4J_DATABASE\n",
    ")"
   ]
  },
  {
   "cell_type": "code",
   "execution_count": 19,
   "metadata": {},
   "outputs": [],
   "source": [
    "import logging\n",
    "\n",
    "logging.basicConfig(\n",
    "    filename='neo4j_import.log',\n",
    "    level=logging.INFO,\n",
    "    format='%(asctime)s %(levelname)s:%(message)s'\n",
    ")"
   ]
  },
  {
   "cell_type": "markdown",
   "metadata": {},
   "source": [
    "##### 1. Define Nodes\n",
    "- Course\n",
    "    - courseCode (string, unique identifier)\n",
    "    - academicUnits (integer)\n",
    "    - title (string)\n",
    "    - description (string)\n",
    "- Degree\n",
    "    - degreeCode (string, unique identifier)\n",
    "    - degree_name (string)\n",
    "    - title (string)\n",
    "    - degree_type (string)\n",
    "    - description (string)\n",
    "    - admission_requirements (string)\n",
    "    - programme_duration (string)\n",
    "    - career_prospects (string)\n",
    "- School\n",
    "    - schoolCode (string, unique identifier)\n",
    "    - schoolName (string)\n",
    "    - description (string)\n",
    "- Type (of courses)\n",
    "    - typeName (ICC, Core, MPE, BDE)"
   ]
  },
  {
   "cell_type": "code",
   "execution_count": 20,
   "metadata": {},
   "outputs": [
    {
     "ename": "ClientError",
     "evalue": "{code: Neo.ClientError.Schema.EquivalentSchemaRuleAlreadyExists} {message: An equivalent constraint already exists, 'Constraint( id=3, name='constraint_428e5cbf', type='UNIQUENESS', schema=(:Course {courseCode}), ownedIndex=2 )'.}",
     "output_type": "error",
     "traceback": [
      "\u001b[0;31m---------------------------------------------------------------------------\u001b[0m",
      "\u001b[0;31mClientError\u001b[0m                               Traceback (most recent call last)",
      "Cell \u001b[0;32mIn[20], line 5\u001b[0m\n\u001b[1;32m      1\u001b[0m cypher \u001b[38;5;241m=\u001b[39m \u001b[38;5;124m\"\"\"\u001b[39m\n\u001b[1;32m      2\u001b[0m \u001b[38;5;124m    CREATE CONSTRAINT FOR (c:Course) REQUIRE c.courseCode IS UNIQUE\u001b[39m\n\u001b[1;32m      3\u001b[0m \u001b[38;5;124m\"\"\"\u001b[39m\n\u001b[0;32m----> 5\u001b[0m results \u001b[38;5;241m=\u001b[39m \u001b[43mkg\u001b[49m\u001b[38;5;241;43m.\u001b[39;49m\u001b[43mquery\u001b[49m\u001b[43m(\u001b[49m\u001b[43mcypher\u001b[49m\u001b[43m)\u001b[49m\n",
      "File \u001b[0;32m~/Final Year Project/Development/create_kg/.venv/lib/python3.12/site-packages/langchain_community/graphs/neo4j_graph.py:431\u001b[0m, in \u001b[0;36mNeo4jGraph.query\u001b[0;34m(self, query, params)\u001b[0m\n\u001b[1;32m    428\u001b[0m \u001b[38;5;28;01mfrom\u001b[39;00m \u001b[38;5;21;01mneo4j\u001b[39;00m\u001b[38;5;21;01m.\u001b[39;00m\u001b[38;5;21;01mexceptions\u001b[39;00m \u001b[38;5;28;01mimport\u001b[39;00m Neo4jError\n\u001b[1;32m    430\u001b[0m \u001b[38;5;28;01mtry\u001b[39;00m:\n\u001b[0;32m--> 431\u001b[0m     data, _, _ \u001b[38;5;241m=\u001b[39m \u001b[38;5;28;43mself\u001b[39;49m\u001b[38;5;241;43m.\u001b[39;49m\u001b[43m_driver\u001b[49m\u001b[38;5;241;43m.\u001b[39;49m\u001b[43mexecute_query\u001b[49m\u001b[43m(\u001b[49m\n\u001b[1;32m    432\u001b[0m \u001b[43m        \u001b[49m\u001b[43mQuery\u001b[49m\u001b[43m(\u001b[49m\u001b[43mtext\u001b[49m\u001b[38;5;241;43m=\u001b[39;49m\u001b[43mquery\u001b[49m\u001b[43m,\u001b[49m\u001b[43m \u001b[49m\u001b[43mtimeout\u001b[49m\u001b[38;5;241;43m=\u001b[39;49m\u001b[38;5;28;43mself\u001b[39;49m\u001b[38;5;241;43m.\u001b[39;49m\u001b[43mtimeout\u001b[49m\u001b[43m)\u001b[49m\u001b[43m,\u001b[49m\n\u001b[1;32m    433\u001b[0m \u001b[43m        \u001b[49m\u001b[43mdatabase\u001b[49m\u001b[38;5;241;43m=\u001b[39;49m\u001b[38;5;28;43mself\u001b[39;49m\u001b[38;5;241;43m.\u001b[39;49m\u001b[43m_database\u001b[49m\u001b[43m,\u001b[49m\n\u001b[1;32m    434\u001b[0m \u001b[43m        \u001b[49m\u001b[43mparameters_\u001b[49m\u001b[38;5;241;43m=\u001b[39;49m\u001b[43mparams\u001b[49m\u001b[43m,\u001b[49m\n\u001b[1;32m    435\u001b[0m \u001b[43m    \u001b[49m\u001b[43m)\u001b[49m\n\u001b[1;32m    436\u001b[0m     json_data \u001b[38;5;241m=\u001b[39m [r\u001b[38;5;241m.\u001b[39mdata() \u001b[38;5;28;01mfor\u001b[39;00m r \u001b[38;5;129;01min\u001b[39;00m data]\n\u001b[1;32m    437\u001b[0m     \u001b[38;5;28;01mif\u001b[39;00m \u001b[38;5;28mself\u001b[39m\u001b[38;5;241m.\u001b[39msanitize:\n",
      "File \u001b[0;32m~/Final Year Project/Development/create_kg/.venv/lib/python3.12/site-packages/neo4j/_sync/driver.py:971\u001b[0m, in \u001b[0;36mDriver.execute_query\u001b[0;34m(self, query_, parameters_, routing_, database_, impersonated_user_, bookmark_manager_, auth_, result_transformer_, **kwargs)\u001b[0m\n\u001b[1;32m    967\u001b[0m     \u001b[38;5;28;01mraise\u001b[39;00m \u001b[38;5;167;01mValueError\u001b[39;00m(\n\u001b[1;32m    968\u001b[0m         \u001b[38;5;124mf\u001b[39m\u001b[38;5;124m\"\u001b[39m\u001b[38;5;124mInvalid routing control value: \u001b[39m\u001b[38;5;132;01m{\u001b[39;00mrouting_\u001b[38;5;132;01m!r}\u001b[39;00m\u001b[38;5;124m\"\u001b[39m\n\u001b[1;32m    969\u001b[0m     )\n\u001b[1;32m    970\u001b[0m \u001b[38;5;28;01mwith\u001b[39;00m session\u001b[38;5;241m.\u001b[39m_pipelined_begin:\n\u001b[0;32m--> 971\u001b[0m     \u001b[38;5;28;01mreturn\u001b[39;00m \u001b[43msession\u001b[49m\u001b[38;5;241;43m.\u001b[39;49m\u001b[43m_run_transaction\u001b[49m\u001b[43m(\u001b[49m\n\u001b[1;32m    972\u001b[0m \u001b[43m        \u001b[49m\u001b[43maccess_mode\u001b[49m\u001b[43m,\u001b[49m\n\u001b[1;32m    973\u001b[0m \u001b[43m        \u001b[49m\u001b[43mTelemetryAPI\u001b[49m\u001b[38;5;241;43m.\u001b[39;49m\u001b[43mDRIVER\u001b[49m\u001b[43m,\u001b[49m\n\u001b[1;32m    974\u001b[0m \u001b[43m        \u001b[49m\u001b[43mwork\u001b[49m\u001b[43m,\u001b[49m\n\u001b[1;32m    975\u001b[0m \u001b[43m        \u001b[49m\u001b[43m(\u001b[49m\u001b[43mquery_str\u001b[49m\u001b[43m,\u001b[49m\u001b[43m \u001b[49m\u001b[43mparameters\u001b[49m\u001b[43m,\u001b[49m\u001b[43m \u001b[49m\u001b[43mresult_transformer_\u001b[49m\u001b[43m)\u001b[49m\u001b[43m,\u001b[49m\n\u001b[1;32m    976\u001b[0m \u001b[43m        \u001b[49m\u001b[43m{\u001b[49m\u001b[43m}\u001b[49m\u001b[43m,\u001b[49m\n\u001b[1;32m    977\u001b[0m \u001b[43m    \u001b[49m\u001b[43m)\u001b[49m\n",
      "File \u001b[0;32m~/Final Year Project/Development/create_kg/.venv/lib/python3.12/site-packages/neo4j/_sync/work/session.py:574\u001b[0m, in \u001b[0;36mSession._run_transaction\u001b[0;34m(self, access_mode, api, transaction_function, args, kwargs)\u001b[0m\n\u001b[1;32m    572\u001b[0m tx \u001b[38;5;241m=\u001b[39m \u001b[38;5;28mself\u001b[39m\u001b[38;5;241m.\u001b[39m_transaction\n\u001b[1;32m    573\u001b[0m \u001b[38;5;28;01mtry\u001b[39;00m:\n\u001b[0;32m--> 574\u001b[0m     result \u001b[38;5;241m=\u001b[39m \u001b[43mtransaction_function\u001b[49m\u001b[43m(\u001b[49m\u001b[43mtx\u001b[49m\u001b[43m,\u001b[49m\u001b[43m \u001b[49m\u001b[38;5;241;43m*\u001b[39;49m\u001b[43margs\u001b[49m\u001b[43m,\u001b[49m\u001b[43m \u001b[49m\u001b[38;5;241;43m*\u001b[39;49m\u001b[38;5;241;43m*\u001b[39;49m\u001b[43mkwargs\u001b[49m\u001b[43m)\u001b[49m\n\u001b[1;32m    575\u001b[0m \u001b[38;5;28;01mexcept\u001b[39;00m asyncio\u001b[38;5;241m.\u001b[39mCancelledError:\n\u001b[1;32m    576\u001b[0m     \u001b[38;5;66;03m# if cancellation callback has not been called yet:\u001b[39;00m\n\u001b[1;32m    577\u001b[0m     \u001b[38;5;28;01mif\u001b[39;00m \u001b[38;5;28mself\u001b[39m\u001b[38;5;241m.\u001b[39m_transaction \u001b[38;5;129;01mis\u001b[39;00m \u001b[38;5;129;01mnot\u001b[39;00m \u001b[38;5;28;01mNone\u001b[39;00m:\n",
      "File \u001b[0;32m~/Final Year Project/Development/create_kg/.venv/lib/python3.12/site-packages/neo4j/_work/query.py:144\u001b[0m, in \u001b[0;36munit_of_work.<locals>.wrapper.<locals>.wrapped\u001b[0;34m(*args, **kwargs)\u001b[0m\n\u001b[1;32m    143\u001b[0m \u001b[38;5;28;01mdef\u001b[39;00m \u001b[38;5;21mwrapped\u001b[39m(\u001b[38;5;241m*\u001b[39margs, \u001b[38;5;241m*\u001b[39m\u001b[38;5;241m*\u001b[39mkwargs):\n\u001b[0;32m--> 144\u001b[0m     \u001b[38;5;28;01mreturn\u001b[39;00m \u001b[43mf\u001b[49m\u001b[43m(\u001b[49m\u001b[38;5;241;43m*\u001b[39;49m\u001b[43margs\u001b[49m\u001b[43m,\u001b[49m\u001b[43m \u001b[49m\u001b[38;5;241;43m*\u001b[39;49m\u001b[38;5;241;43m*\u001b[39;49m\u001b[43mkwargs\u001b[49m\u001b[43m)\u001b[49m\n",
      "File \u001b[0;32m~/Final Year Project/Development/create_kg/.venv/lib/python3.12/site-packages/neo4j/_sync/driver.py:1307\u001b[0m, in \u001b[0;36m_work\u001b[0;34m(tx, query, parameters, transformer)\u001b[0m\n\u001b[1;32m   1301\u001b[0m \u001b[38;5;28;01mdef\u001b[39;00m \u001b[38;5;21m_work\u001b[39m(\n\u001b[1;32m   1302\u001b[0m     tx: ManagedTransaction,\n\u001b[1;32m   1303\u001b[0m     query: te\u001b[38;5;241m.\u001b[39mLiteralString,\n\u001b[1;32m   1304\u001b[0m     parameters: \u001b[38;5;28mdict\u001b[39m[\u001b[38;5;28mstr\u001b[39m, t\u001b[38;5;241m.\u001b[39mAny],\n\u001b[1;32m   1305\u001b[0m     transformer: t\u001b[38;5;241m.\u001b[39mCallable[[Result], t\u001b[38;5;241m.\u001b[39mUnion[_T]],\n\u001b[1;32m   1306\u001b[0m ) \u001b[38;5;241m-\u001b[39m\u001b[38;5;241m>\u001b[39m _T:\n\u001b[0;32m-> 1307\u001b[0m     res \u001b[38;5;241m=\u001b[39m \u001b[43mtx\u001b[49m\u001b[38;5;241;43m.\u001b[39;49m\u001b[43mrun\u001b[49m\u001b[43m(\u001b[49m\u001b[43mquery\u001b[49m\u001b[43m,\u001b[49m\u001b[43m \u001b[49m\u001b[43mparameters\u001b[49m\u001b[43m)\u001b[49m\n\u001b[1;32m   1308\u001b[0m     \u001b[38;5;28;01mreturn\u001b[39;00m transformer(res)\n",
      "File \u001b[0;32m~/Final Year Project/Development/create_kg/.venv/lib/python3.12/site-packages/neo4j/_sync/work/transaction.py:195\u001b[0m, in \u001b[0;36mTransactionBase.run\u001b[0;34m(self, query, parameters, **kwparameters)\u001b[0m\n\u001b[1;32m    192\u001b[0m \u001b[38;5;28mself\u001b[39m\u001b[38;5;241m.\u001b[39m_results\u001b[38;5;241m.\u001b[39mappend(result)\n\u001b[1;32m    194\u001b[0m parameters \u001b[38;5;241m=\u001b[39m \u001b[38;5;28mdict\u001b[39m(parameters \u001b[38;5;129;01mor\u001b[39;00m {}, \u001b[38;5;241m*\u001b[39m\u001b[38;5;241m*\u001b[39mkwparameters)\n\u001b[0;32m--> 195\u001b[0m \u001b[43mresult\u001b[49m\u001b[38;5;241;43m.\u001b[39;49m\u001b[43m_tx_ready_run\u001b[49m\u001b[43m(\u001b[49m\u001b[43mquery\u001b[49m\u001b[43m,\u001b[49m\u001b[43m \u001b[49m\u001b[43mparameters\u001b[49m\u001b[43m)\u001b[49m\n\u001b[1;32m    197\u001b[0m \u001b[38;5;28;01mreturn\u001b[39;00m result\n",
      "File \u001b[0;32m~/Final Year Project/Development/create_kg/.venv/lib/python3.12/site-packages/neo4j/_sync/work/result.py:175\u001b[0m, in \u001b[0;36mResult._tx_ready_run\u001b[0;34m(self, query, parameters)\u001b[0m\n\u001b[1;32m    171\u001b[0m \u001b[38;5;28;01mdef\u001b[39;00m \u001b[38;5;21m_tx_ready_run\u001b[39m(\u001b[38;5;28mself\u001b[39m, query, parameters):\n\u001b[1;32m    172\u001b[0m     \u001b[38;5;66;03m# BEGIN+RUN does not carry any extra on the RUN message.\u001b[39;00m\n\u001b[1;32m    173\u001b[0m     \u001b[38;5;66;03m# BEGIN {extra}\u001b[39;00m\n\u001b[1;32m    174\u001b[0m     \u001b[38;5;66;03m# RUN \"query\" {parameters} {extra}\u001b[39;00m\n\u001b[0;32m--> 175\u001b[0m     \u001b[38;5;28;43mself\u001b[39;49m\u001b[38;5;241;43m.\u001b[39;49m\u001b[43m_run\u001b[49m\u001b[43m(\u001b[49m\u001b[43mquery\u001b[49m\u001b[43m,\u001b[49m\u001b[43m \u001b[49m\u001b[43mparameters\u001b[49m\u001b[43m,\u001b[49m\u001b[43m \u001b[49m\u001b[38;5;28;43;01mNone\u001b[39;49;00m\u001b[43m,\u001b[49m\u001b[43m \u001b[49m\u001b[38;5;28;43;01mNone\u001b[39;49;00m\u001b[43m,\u001b[49m\u001b[43m \u001b[49m\u001b[38;5;28;43;01mNone\u001b[39;49;00m\u001b[43m,\u001b[49m\u001b[43m \u001b[49m\u001b[38;5;28;43;01mNone\u001b[39;49;00m\u001b[43m,\u001b[49m\u001b[43m \u001b[49m\u001b[38;5;28;43;01mNone\u001b[39;49;00m\u001b[43m,\u001b[49m\u001b[43m \u001b[49m\u001b[38;5;28;43;01mNone\u001b[39;49;00m\u001b[43m)\u001b[49m\n",
      "File \u001b[0;32m~/Final Year Project/Development/create_kg/.venv/lib/python3.12/site-packages/neo4j/_sync/work/result.py:231\u001b[0m, in \u001b[0;36mResult._run\u001b[0;34m(self, query, parameters, db, imp_user, access_mode, bookmarks, notifications_min_severity, notifications_disabled_classifications)\u001b[0m\n\u001b[1;32m    229\u001b[0m \u001b[38;5;28mself\u001b[39m\u001b[38;5;241m.\u001b[39m_pull()\n\u001b[1;32m    230\u001b[0m \u001b[38;5;28mself\u001b[39m\u001b[38;5;241m.\u001b[39m_connection\u001b[38;5;241m.\u001b[39msend_all()\n\u001b[0;32m--> 231\u001b[0m \u001b[38;5;28;43mself\u001b[39;49m\u001b[38;5;241;43m.\u001b[39;49m\u001b[43m_attach\u001b[49m\u001b[43m(\u001b[49m\u001b[43m)\u001b[49m\n",
      "File \u001b[0;32m~/Final Year Project/Development/create_kg/.venv/lib/python3.12/site-packages/neo4j/_sync/work/result.py:425\u001b[0m, in \u001b[0;36mResult._attach\u001b[0;34m(self)\u001b[0m\n\u001b[1;32m    423\u001b[0m \u001b[38;5;28;01mif\u001b[39;00m \u001b[38;5;28mself\u001b[39m\u001b[38;5;241m.\u001b[39m_exhausted \u001b[38;5;129;01mis\u001b[39;00m \u001b[38;5;28;01mFalse\u001b[39;00m:\n\u001b[1;32m    424\u001b[0m     \u001b[38;5;28;01mwhile\u001b[39;00m \u001b[38;5;28mself\u001b[39m\u001b[38;5;241m.\u001b[39m_attached \u001b[38;5;129;01mis\u001b[39;00m \u001b[38;5;28;01mFalse\u001b[39;00m:\n\u001b[0;32m--> 425\u001b[0m         \u001b[38;5;28;43mself\u001b[39;49m\u001b[38;5;241;43m.\u001b[39;49m\u001b[43m_connection\u001b[49m\u001b[38;5;241;43m.\u001b[39;49m\u001b[43mfetch_message\u001b[49m\u001b[43m(\u001b[49m\u001b[43m)\u001b[49m\n",
      "File \u001b[0;32m~/Final Year Project/Development/create_kg/.venv/lib/python3.12/site-packages/neo4j/_sync/io/_common.py:181\u001b[0m, in \u001b[0;36mConnectionErrorHandler.__getattr__.<locals>.outer.<locals>.inner\u001b[0;34m(*args, **kwargs)\u001b[0m\n\u001b[1;32m    179\u001b[0m \u001b[38;5;28;01mdef\u001b[39;00m \u001b[38;5;21minner\u001b[39m(\u001b[38;5;241m*\u001b[39margs, \u001b[38;5;241m*\u001b[39m\u001b[38;5;241m*\u001b[39mkwargs):\n\u001b[1;32m    180\u001b[0m     \u001b[38;5;28;01mtry\u001b[39;00m:\n\u001b[0;32m--> 181\u001b[0m         \u001b[43mfunc\u001b[49m\u001b[43m(\u001b[49m\u001b[38;5;241;43m*\u001b[39;49m\u001b[43margs\u001b[49m\u001b[43m,\u001b[49m\u001b[43m \u001b[49m\u001b[38;5;241;43m*\u001b[39;49m\u001b[38;5;241;43m*\u001b[39;49m\u001b[43mkwargs\u001b[49m\u001b[43m)\u001b[49m\n\u001b[1;32m    182\u001b[0m     \u001b[38;5;28;01mexcept\u001b[39;00m (Neo4jError, ServiceUnavailable, SessionExpired) \u001b[38;5;28;01mas\u001b[39;00m exc:\n\u001b[1;32m    183\u001b[0m         \u001b[38;5;28;01massert\u001b[39;00m \u001b[38;5;129;01mnot\u001b[39;00m asyncio\u001b[38;5;241m.\u001b[39miscoroutinefunction(\u001b[38;5;28mself\u001b[39m\u001b[38;5;241m.\u001b[39m__on_error)\n",
      "File \u001b[0;32m~/Final Year Project/Development/create_kg/.venv/lib/python3.12/site-packages/neo4j/_sync/io/_bolt.py:977\u001b[0m, in \u001b[0;36mBolt.fetch_message\u001b[0;34m(self)\u001b[0m\n\u001b[1;32m    973\u001b[0m \u001b[38;5;66;03m# Receive exactly one message\u001b[39;00m\n\u001b[1;32m    974\u001b[0m tag, fields \u001b[38;5;241m=\u001b[39m \u001b[38;5;28mself\u001b[39m\u001b[38;5;241m.\u001b[39minbox\u001b[38;5;241m.\u001b[39mpop(\n\u001b[1;32m    975\u001b[0m     hydration_hooks\u001b[38;5;241m=\u001b[39m\u001b[38;5;28mself\u001b[39m\u001b[38;5;241m.\u001b[39mresponses[\u001b[38;5;241m0\u001b[39m]\u001b[38;5;241m.\u001b[39mhydration_hooks\n\u001b[1;32m    976\u001b[0m )\n\u001b[0;32m--> 977\u001b[0m res \u001b[38;5;241m=\u001b[39m \u001b[38;5;28;43mself\u001b[39;49m\u001b[38;5;241;43m.\u001b[39;49m\u001b[43m_process_message\u001b[49m\u001b[43m(\u001b[49m\u001b[43mtag\u001b[49m\u001b[43m,\u001b[49m\u001b[43m \u001b[49m\u001b[43mfields\u001b[49m\u001b[43m)\u001b[49m\n\u001b[1;32m    978\u001b[0m \u001b[38;5;28mself\u001b[39m\u001b[38;5;241m.\u001b[39midle_since \u001b[38;5;241m=\u001b[39m monotonic()\n\u001b[1;32m    979\u001b[0m \u001b[38;5;28;01mreturn\u001b[39;00m res\n",
      "File \u001b[0;32m~/Final Year Project/Development/create_kg/.venv/lib/python3.12/site-packages/neo4j/_sync/io/_bolt5.py:466\u001b[0m, in \u001b[0;36mBolt5x0._process_message\u001b[0;34m(self, tag, fields)\u001b[0m\n\u001b[1;32m    464\u001b[0m \u001b[38;5;28mself\u001b[39m\u001b[38;5;241m.\u001b[39m_server_state_manager\u001b[38;5;241m.\u001b[39mstate \u001b[38;5;241m=\u001b[39m \u001b[38;5;28mself\u001b[39m\u001b[38;5;241m.\u001b[39mbolt_states\u001b[38;5;241m.\u001b[39mFAILED\n\u001b[1;32m    465\u001b[0m \u001b[38;5;28;01mtry\u001b[39;00m:\n\u001b[0;32m--> 466\u001b[0m     \u001b[43mresponse\u001b[49m\u001b[38;5;241;43m.\u001b[39;49m\u001b[43mon_failure\u001b[49m\u001b[43m(\u001b[49m\u001b[43msummary_metadata\u001b[49m\u001b[43m \u001b[49m\u001b[38;5;129;43;01mor\u001b[39;49;00m\u001b[43m \u001b[49m\u001b[43m{\u001b[49m\u001b[43m}\u001b[49m\u001b[43m)\u001b[49m\n\u001b[1;32m    467\u001b[0m \u001b[38;5;28;01mexcept\u001b[39;00m (ServiceUnavailable, DatabaseUnavailable):\n\u001b[1;32m    468\u001b[0m     \u001b[38;5;28;01mif\u001b[39;00m \u001b[38;5;28mself\u001b[39m\u001b[38;5;241m.\u001b[39mpool:\n",
      "File \u001b[0;32m~/Final Year Project/Development/create_kg/.venv/lib/python3.12/site-packages/neo4j/_sync/io/_common.py:251\u001b[0m, in \u001b[0;36mResponse.on_failure\u001b[0;34m(self, metadata)\u001b[0m\n\u001b[1;32m    249\u001b[0m handler \u001b[38;5;241m=\u001b[39m \u001b[38;5;28mself\u001b[39m\u001b[38;5;241m.\u001b[39mhandlers\u001b[38;5;241m.\u001b[39mget(\u001b[38;5;124m\"\u001b[39m\u001b[38;5;124mon_summary\u001b[39m\u001b[38;5;124m\"\u001b[39m)\n\u001b[1;32m    250\u001b[0m Util\u001b[38;5;241m.\u001b[39mcallback(handler)\n\u001b[0;32m--> 251\u001b[0m \u001b[38;5;28;01mraise\u001b[39;00m Neo4jError\u001b[38;5;241m.\u001b[39mhydrate(\u001b[38;5;241m*\u001b[39m\u001b[38;5;241m*\u001b[39mmetadata)\n",
      "\u001b[0;31mClientError\u001b[0m: {code: Neo.ClientError.Schema.EquivalentSchemaRuleAlreadyExists} {message: An equivalent constraint already exists, 'Constraint( id=3, name='constraint_428e5cbf', type='UNIQUENESS', schema=(:Course {courseCode}), ownedIndex=2 )'.}"
     ]
    }
   ],
   "source": [
    "cypher = \"\"\"\n",
    "    CREATE CONSTRAINT FOR (c:Course) REQUIRE c.courseCode IS UNIQUE\n",
    "\"\"\"\n",
    "\n",
    "results = kg.query(cypher)"
   ]
  },
  {
   "cell_type": "code",
   "execution_count": null,
   "metadata": {},
   "outputs": [],
   "source": [
    "cypher = \"\"\"\n",
    "    CREATE CONSTRAINT FOR (c:Course) REQUIRE c.courseCode IS UNIQUE\n",
    "\"\"\"\n",
    "results = kg.query(cypher)\n",
    "\n",
    "cypher = \"\"\"\n",
    "    CREATE CONSTRAINT FOR (d:Degree) REQUIRE d.degreeCode IS UNIQUE\n",
    "\"\"\"\n",
    "\n",
    "results = kg.query(cypher)\n",
    "\n",
    "cypher = \"\"\"\n",
    "    CREATE CONSTRAINT FOR (s:School) REQUIRE s.schoolCode IS UNIQUE\n",
    "\"\"\"\n",
    "\n",
    "results = kg.query(cypher)\n",
    "\n",
    "cypher =\"\"\"\n",
    "        CREATE CONSTRAINT FOR (t:Type) REQUIRE t.typeName IS UNIQUE\n",
    "        \"\"\"\n",
    "\n",
    "results = kg.query(cypher)\n"
   ]
  },
  {
   "cell_type": "code",
   "execution_count": null,
   "metadata": {},
   "outputs": [],
   "source": [
    "import pandas as pd\n",
    "\n",
    "# Helper function to load courses nodes into Neo4j graph database\n",
    "def load_courses(neo4j_graph, filepath):\n",
    "    df = pd.read_csv(filepath)\n",
    "    for index, row in df.iterrows():\n",
    "        cypher_query = \"\"\"\n",
    "        MERGE (c:Course {courseCode: '$courseCode'})\n",
    "        SET c.academicUnits = toInteger($academicUnits),\n",
    "            c.title = $title,\n",
    "            c.description = $description\n",
    "        \"\"\"\n",
    "        parameters = {\n",
    "            \"courseCode\": row[\"courseCode\"],\n",
    "            \"academicUnits\": row[\"academicUnits\"],\n",
    "            \"title\": row[\"title\"],\n",
    "            \"description\": row[\"description\"]\n",
    "        }\n",
    "        neo4j_graph.query(cypher_query, parameters)"
   ]
  },
  {
   "cell_type": "code",
   "execution_count": null,
   "metadata": {},
   "outputs": [],
   "source": [
    "load_courses(kg, \"data/courses_nodes.csv\")"
   ]
  },
  {
   "cell_type": "code",
   "execution_count": null,
   "metadata": {},
   "outputs": [],
   "source": [
    "# Helper function to load degree nodes into Neo4j graph database\n",
    "def load_degrees(neo4j_graph, filepath):\n",
    "    df = pd.read_csv(filepath)\n",
    "    for index, row in df.iterrows():\n",
    "        cypher_query = \"\"\"\n",
    "                       MERGE (d:Degree {degreeCode: $degreeCode})\n",
    "                       SET d.degree_name = $degree_name,\n",
    "                           d.title = $title,\n",
    "                           d.degree_type = $degree_type,\n",
    "                           d.description = $description, \n",
    "                           d.admission_requirements = $admission_requirements,\n",
    "                           d.programme_duration = $programme_duration,\n",
    "                           d.career_prospects = $career_prospects\n",
    "                       \"\"\"\n",
    "        parameters = {\n",
    "            \"degreeCode\": row[\"degreeCode\"],\n",
    "            \"title\": row[\"title\"],\n",
    "            \"degree_name\": row[\"degree_name\"],\n",
    "            \"degree_type\": row[\"degree_type\"],\n",
    "            \"description\": row[\"description\"],\n",
    "            \"admission_requirements\": row[\"admission_requirements\"],\n",
    "            \"programme_duration\": row[\"programme_duration\"],\n",
    "            \"career_prospects\": row[\"career_prospects\"]\n",
    "        }\n",
    "\n",
    "        neo4j_graph.query(cypher_query, parameters)\n"
   ]
  },
  {
   "cell_type": "code",
   "execution_count": null,
   "metadata": {},
   "outputs": [],
   "source": [
    "load_degrees(kg, \"data/degree_nodes.csv\")"
   ]
  },
  {
   "cell_type": "code",
   "execution_count": null,
   "metadata": {},
   "outputs": [],
   "source": [
    "# Helper function to load school nodes into Neo4j graph database\n",
    "def load_schools(neo4j_graph, filepath):\n",
    "    df = pd.read_csv(filepath)\n",
    "    for index, row in df.iterrows():\n",
    "        cypher_query = \"\"\"\n",
    "                       MERGE (s:School {schoolCode: $schoolCode})\n",
    "                       SET s.schoolName = $schoolName\n",
    "                       SET s.description = $description\n",
    "                       \"\"\"\n",
    "        parameters = {\n",
    "            \"schoolCode\": row[\"schoolCode\"],\n",
    "            \"schoolName\": row[\"schoolName\"],\n",
    "            \"description\": row[\"description\"]\n",
    "        }\n",
    "\n",
    "        neo4j_graph.query(cypher_query, parameters)\n",
    "        "
   ]
  },
  {
   "cell_type": "code",
   "execution_count": null,
   "metadata": {},
   "outputs": [],
   "source": [
    "load_schools(kg, \"data/school_nodes.csv\")"
   ]
  },
  {
   "cell_type": "code",
   "execution_count": null,
   "metadata": {},
   "outputs": [],
   "source": [
    "# Helper function to load type nodes into Neo4j graph database\n",
    "def load_types(neo4j_graph, filepath):\n",
    "    df = pd.read_csv(filepath)\n",
    "    for index, row in df.iterrows():\n",
    "        cypher_query = \"\"\"\n",
    "                       MERGE (t:Type {typeName: $typeName})\n",
    "                       \"\"\"\n",
    "        parameters = {\n",
    "            \"typeName\": row[\"typeName\"]\n",
    "        }\n",
    "\n",
    "        neo4j_graph.query(cypher_query, parameters)"
   ]
  },
  {
   "cell_type": "code",
   "execution_count": null,
   "metadata": {},
   "outputs": [],
   "source": [
    "load_types(kg, \"data/type_nodes.csv\")"
   ]
  },
  {
   "cell_type": "code",
   "execution_count": null,
   "metadata": {},
   "outputs": [],
   "source": [
    "# Helper function to load yearStanding nodes into Neo4j graph database\n",
    "def load_yearStanding(neo4j_graph, filepath):\n",
    "    df = pd.read_csv(filepath)\n",
    "    for index, row in df.iterrows():\n",
    "        cypher_query = \"\"\"\n",
    "                       MERGE (y:yearStanding {year: $yearStanding})\n",
    "                       \"\"\"\n",
    "        parameters = {\n",
    "            \"yearStanding\": row[\"yearStanding\"]\n",
    "        }\n",
    "\n",
    "        neo4j_graph.query(cypher_query, parameters)"
   ]
  },
  {
   "cell_type": "code",
   "execution_count": null,
   "metadata": {},
   "outputs": [],
   "source": [
    "load_yearStanding(kg, \"data/yearStanding_nodes.csv\")"
   ]
  },
  {
   "cell_type": "code",
   "execution_count": null,
   "metadata": {},
   "outputs": [],
   "source": [
    "# Helper function to load semesterName nodes into Neo4j graph database\n",
    "def load_semester(neo4j_graph, filepath):\n",
    "    df = pd.read_csv(filepath)\n",
    "    for index, row in df.iterrows():\n",
    "        cypher_query = \"\"\"\n",
    "                       MERGE (s:Semester {semester: $semesterName})\n",
    "                       \"\"\"\n",
    "        parameters = {\n",
    "            \"semesterName\": row[\"semesterName\"]\n",
    "        }\n",
    "\n",
    "        neo4j_graph.query(cypher_query, parameters)"
   ]
  },
  {
   "cell_type": "code",
   "execution_count": null,
   "metadata": {},
   "outputs": [],
   "source": [
    "load_semester(kg, \"data/semesterName_nodes.csv\")"
   ]
  },
  {
   "cell_type": "code",
   "execution_count": null,
   "metadata": {},
   "outputs": [],
   "source": [
    "# Helper function to load specialisation nodes into Neo4j graph database\n",
    "def load_specialisation(neo4j_graph, filepath):\n",
    "    df = pd.read_csv(filepath)\n",
    "    for index, row in df.iterrows():\n",
    "        cypher_query = \"\"\"\n",
    "                       MERGE (s:Specialisation {specialisation: $Specialisation})\n",
    "                       \"\"\"\n",
    "        parameters = {\n",
    "            \"Specialisation\": row[\"Specialisation\"]\n",
    "        }\n",
    "\n",
    "        neo4j_graph.query(cypher_query, parameters)"
   ]
  },
  {
   "cell_type": "code",
   "execution_count": null,
   "metadata": {},
   "outputs": [],
   "source": [
    "load_specialisation(kg, \"data/specialisation_nodes.csv\")"
   ]
  },
  {
   "cell_type": "markdown",
   "metadata": {},
   "source": [
    "#### Create Relationships between nodes\n",
    "- (course)-[:PRE_REQUISITE_FOR]->(course)\n",
    "- (course)-[:CO_REQUISITE_FOR]->(course)\n",
    "- (course)-[:BELONGS_TO_SCHOOL]->(school)\n",
    "- (course)-[:HAS_TYPE]->(type)\n",
    "- (course)-[:SCHEDULED_IN]->(semester)\n",
    "- (course)-[:REQUIRED_FOR]->(degree)"
   ]
  },
  {
   "cell_type": "markdown",
   "metadata": {},
   "source": [
    "##### 1. Pre_requisite Relationships between nodes\n",
    "Prerequisite relationships in courses can vary: \n",
    "- Single Course Prerequisite: A course requires another specific course (e.g. SC1003)\n",
    "- Multiple Courses (OR Condition): A course requires at least one from set of courses (e.g. SC1003 OR SC1007)\n",
    "- Year Standing: A course requires completion of a certain year (e.g. Year 3)\n",
    "\n",
    "We will need a schema that can represent both simple and compound conditions efficiently."
   ]
  },
  {
   "cell_type": "code",
   "execution_count": null,
   "metadata": {},
   "outputs": [],
   "source": [
    "# Add the pre_requisite relationship \n",
    "def link_prerequisite(neo4j_graph, filepath):\n",
    "    df = pd.read_csv(filepath)\n",
    "\n",
    "    for index, row in df.iterrows():\n",
    "        if row[\"prerequisiteType\"] == \"Course\":\n",
    "            cypher_query = \"\"\"\n",
    "                           MATCH (pre: Course {courseCode: $prerequisiteValue})\n",
    "                           MATCH (c: Course {courseCode: $courseCode})\n",
    "                           MERGE (pre)-[:PRE_REQUISITE_FOR]->(c)\n",
    "                           \"\"\"\n",
    "            parameters = {\n",
    "               \"prerequisiteValue\": row[\"prerequisiteValue\"],\n",
    "               \"courseCode\": row[\"courseCode\"]\n",
    "            }\n",
    "\n",
    "            try:\n",
    "                neo4j_graph.query(cypher_query, parameters)\n",
    "                logging.info(f\"Linked Prerequisite Course {row['prerequisiteValue']} to Course {row['courseCode']}\")\n",
    "            except Exception as e:\n",
    "                logging.error(f\"Error linking Prerequisite Course {row['prerequisiteValue']} to Course {row['courseCode']}: {e}\")\n",
    "\n",
    "        elif row[\"prerequisiteType\"] == \"Year\":\n",
    "            cypher_query = \"\"\"\n",
    "                           MATCH (y:yearStanding {year: $yearStanding})\n",
    "                           MATCH (c: Course {courseCode: $courseCode})\n",
    "                           MERGE (y)-[:PRE_REQUISITE_FOR]->(c)\n",
    "                           \"\"\"\n",
    "            parameters = {\n",
    "                \"yearStanding\": row[\"prerequisiteValue\"],\n",
    "                \"courseCode\": row[\"courseCode\"]\n",
    "            }\n",
    "\n",
    "            try:\n",
    "                neo4j_graph.query(cypher_query, parameters)\n",
    "                logging.info(f\"Linked Year {row['prerequisiteValue']} as a prerequisite for Course {row['courseCode']}\")\n",
    "            except Exception as e:\n",
    "                logging.error(f\"Error linking Year {row['prerequisiteValue']} to Course {row['courseCode']}: {e}\")\n",
    "        \n",
    "        elif row[\"prerequisiteType\"] == \"OR_Course\":\n",
    "            # Handles OR prerequisites by creating a Prerequisite Group\n",
    "            # First, create of find a PrerequisiteGroup node with logicType 'OR'\n",
    "            # Form the group_id\n",
    "            group_id = f\"{row['courseCode']}_OR_Group\"\n",
    "\n",
    "            cypher_group = \"\"\"\n",
    "                           MERGE (g: PrerequisiteGroup {groupId: $groupId, logicType: 'OR'})\n",
    "                           \"\"\"\n",
    "            parameters_group = {\n",
    "                \"groupId\": group_id\n",
    "            }\n",
    "\n",
    "            try:\n",
    "                neo4j_graph.query(cypher_group, parameters_group)\n",
    "                logging.info(f\"Created/Found PrerequisiteGroup {group_id} with logicType 'OR'\")\n",
    "            except Exception as e:\n",
    "                logging.error(f\"Error creating PrerequisiteGroup {group_id}: {e}\")\n",
    "\n",
    "            # Link the group to the course\n",
    "            cypher_course_link = \"\"\"\n",
    "                                 MATCH (c: Course {courseCode: $courseCode})\n",
    "                                 MATCH (g: PrerequisiteGroup {groupId: $groupId})\n",
    "                                 MERGE (g)-[:PRE_REQUISITE_FOR]->(c)\n",
    "                                 \"\"\"\n",
    "            parameters_course_link = {\n",
    "                \"courseCode\": row[\"courseCode\"],\n",
    "                \"groupId\": group_id\n",
    "            }\n",
    "\n",
    "            try:\n",
    "                neo4j_graph.query(cypher_course_link, parameters_course_link)\n",
    "                logging.info(f\"Linked Course {row['courseCode']} to PrerequisiteGroup {group_id}\")\n",
    "            except Exception as e:\n",
    "                logging.error(f\"Error linking Course {row['courseCode']} to PrerequisiteGroup {group_id}: {e}\")\n",
    "\n",
    "            # Link the prerequisite course to the group\n",
    "            cypher_requires = \"\"\"\n",
    "                              MATCH (pre: Course {courseCode: $prerequisiteCourseCode})\n",
    "                              MATCH (g: PrerequisiteGroup {groupId: $groupId})\n",
    "                              MERGE (g)-[:REQUIRES]->(pre)\n",
    "                              \"\"\"\n",
    "            parameters_requires = {\n",
    "                \"prerequisiteCourseCode\": row[\"prerequisiteValue\"],\n",
    "                \"groupId\": group_id\n",
    "            }\n",
    "\n",
    "            try:\n",
    "                neo4j_graph.query(cypher_requires, parameters_requires)\n",
    "                logging.info(f\"Linked Prerequisite Course {row['prerequisiteValue']} to PrerequisiteGroup {group_id}\")\n",
    "            except Exception as e:\n",
    "                logging.error(f\"Error linking Prerequisite Course {row['prerequisiteValue']} to PrerequisiteGroup {group_id}: {e}\")\n",
    "            \n",
    "\n",
    "           "
   ]
  },
  {
   "cell_type": "code",
   "execution_count": 12,
   "metadata": {},
   "outputs": [],
   "source": [
    "link_prerequisite(kg, \"data/pre_requisite_relationship.csv\")"
   ]
  },
  {
   "cell_type": "code",
   "execution_count": null,
   "metadata": {},
   "outputs": [],
   "source": [
    "def unlink_prerequisite(neo4j_graph, filepath):\n",
    "    df = pd.read_csv(filepath)\n",
    "\n",
    "    for index, row in df.iterrows():\n",
    "        if row[\"prerequisiteType\"] == \"Course\":\n",
    "            # Delete PRE_REQUISITE_FOR relationship between Courses\n",
    "            cypher_query = \"\"\"\n",
    "                           MATCH (pre:Course {courseCode: $prerequisiteValue})-[r:PRE_REQUISITE_FOR]->(c:Course {courseCode: $courseCode})\n",
    "                           DELETE r\n",
    "                           \"\"\"\n",
    "            parameters = {\n",
    "               \"prerequisiteValue\": row[\"prerequisiteValue\"],\n",
    "               \"courseCode\": row[\"courseCode\"]\n",
    "            }\n",
    "\n",
    "            try:\n",
    "                neo4j_graph.query(cypher_query, parameters)\n",
    "                logging.info(f\"Unlinked Prerequisite Course {row['prerequisiteValue']} from Course {row['courseCode']}\")\n",
    "            except Exception as e:\n",
    "                logging.error(f\"Error unlinking Prerequisite Course {row['prerequisiteValue']} from Course {row['courseCode']}: {e}\")\n",
    "\n",
    "        elif row[\"prerequisiteType\"] == \"Year\":\n",
    "            # Delete PRE_REQUISITE_FOR relationship between YearStanding and Course\n",
    "            cypher_query = \"\"\"\n",
    "                           MATCH (y:yearStanding {year: $yearStanding})-[r:PRE_REQUISITE_FOR]->(c:Course {courseCode: $courseCode})\n",
    "                           DELETE r\n",
    "                           \"\"\"\n",
    "            parameters = {\n",
    "                \"yearStanding\": row[\"prerequisiteValue\"],\n",
    "                \"courseCode\": row[\"courseCode\"]\n",
    "            }\n",
    "\n",
    "            try:\n",
    "                neo4j_graph.query(cypher_query, parameters)\n",
    "                logging.info(f\"Unlinked Year {row['prerequisiteValue']} as a prerequisite from Course {row['courseCode']}\")\n",
    "            except Exception as e:\n",
    "                logging.error(f\"Error unlinking Year {row['prerequisiteValue']} from Course {row['courseCode']}: {e}\")\n",
    "        \n",
    "        elif row[\"prerequisiteType\"] == \"OR_Course\":\n",
    "            # Remove relationships involving PrerequisiteGroup\n",
    "            group_id = f\"{row['courseCode']}_OR_Group\"\n",
    "\n",
    "            # Delete REQUIRES relationship between PrerequisiteGroup and Prerequisite Course\n",
    "            cypher_requires = \"\"\"\n",
    "                              MATCH (g:PrerequisiteGroup {groupId: $groupId})-[r:REQUIRES]->(pre:Course {courseCode: $prerequisiteCourseCode})\n",
    "                              DELETE r\n",
    "                              \"\"\"\n",
    "            parameters_requires = {\n",
    "                \"prerequisiteCourseCode\": row[\"prerequisiteValue\"],\n",
    "                \"groupId\": group_id\n",
    "            }\n",
    "\n",
    "            try:\n",
    "                neo4j_graph.query(cypher_requires, parameters_requires)\n",
    "                logging.info(f\"Unlinked Prerequisite Course {row['prerequisiteValue']} from PrerequisiteGroup {group_id}\")\n",
    "            except Exception as e:\n",
    "                logging.error(f\"Error unlinking Prerequisite Course {row['prerequisiteValue']} from PrerequisiteGroup {group_id}: {e}\")\n",
    "\n",
    "            # Delete PRE_REQUISITE_FOR relationship between Course and PrerequisiteGroup\n",
    "            cypher_course_link = \"\"\"\n",
    "                                 MATCH (c:Course {courseCode: $courseCode})-[r:PRE_REQUISITE_FOR]->(g:PrerequisiteGroup {groupId: $groupId})\n",
    "                                 DELETE r\n",
    "                                 \"\"\"\n",
    "            parameters_course_link = {\n",
    "                \"courseCode\": row[\"courseCode\"],\n",
    "                \"groupId\": group_id\n",
    "            }\n",
    "\n",
    "            try:\n",
    "                neo4j_graph.query(cypher_course_link, parameters_course_link)\n",
    "                logging.info(f\"Unlinked Course {row['courseCode']} from PrerequisiteGroup {group_id}\")\n",
    "            except Exception as e:\n",
    "                logging.error(f\"Error unlinking Course {row['courseCode']} from PrerequisiteGroup {group_id}: {e}\")\n",
    "\n",
    "            # Optionally, delete the PrerequisiteGroup node if it has no relationships\n",
    "            cypher_delete_group = \"\"\"\n",
    "                                  MATCH (g:PrerequisiteGroup {groupId: $groupId})\n",
    "                                  WHERE NOT (g)--()\n",
    "                                  DELETE g\n",
    "                                  \"\"\"\n",
    "            parameters_delete_group = {\n",
    "                \"groupId\": group_id\n",
    "            }\n",
    "\n",
    "            try:\n",
    "                neo4j_graph.query(cypher_delete_group, parameters_delete_group)\n",
    "                logging.info(f\"Deleted PrerequisiteGroup {group_id} as it has no remaining relationships\")\n",
    "            except Exception as e:\n",
    "                logging.error(f\"Error deleting PrerequisiteGroup {group_id}: {e}\")\n"
   ]
  },
  {
   "cell_type": "code",
   "execution_count": null,
   "metadata": {},
   "outputs": [],
   "source": [
    "unlink_prerequisite(kg, \"data/pre_requisite_relationship.csv\")"
   ]
  },
  {
   "cell_type": "code",
   "execution_count": 75,
   "metadata": {},
   "outputs": [
    {
     "data": {
      "text/plain": [
       "[{'PrerequisiteCourseCode': 'SC1003',\n",
       "  'PrerequisiteTitle': 'Introduction to Computational Thinking and Programming'},\n",
       " {'PrerequisiteCourseCode': 'SC1007',\n",
       "  'PrerequisiteTitle': 'Data Structures & Algorithm'}]"
      ]
     },
     "execution_count": 75,
     "metadata": {},
     "output_type": "execute_result"
    }
   ],
   "source": [
    "# This is to find the course pre requisite with OR logic\n",
    "\n",
    "cypher = \"\"\"\n",
    "         MATCH (c:Course {courseCode: 'SC2002'})\n",
    "        -[:PRE_REQUISITE_FOR]->(g)\n",
    "        -[:REQUIRES]->(pre)\n",
    "        RETURN pre.courseCode AS PrerequisiteCourseCode, pre.title AS PrerequisiteTitle\n",
    "         \"\"\"\n",
    "results = kg.query(cypher)\n",
    "results\n"
   ]
  },
  {
   "cell_type": "code",
   "execution_count": 77,
   "metadata": {},
   "outputs": [
    {
     "data": {
      "text/plain": [
       "[{'y': {'year': 'Year 3'}}]"
      ]
     },
     "execution_count": 77,
     "metadata": {},
     "output_type": "execute_result"
    }
   ],
   "source": [
    "cypher = \"\"\"\n",
    "         MATCH (y:yearStanding)\n",
    "        -[:PRE_REQUISITE_FOR]->(c:Course {courseCode: 'SC3010'})\n",
    "        RETURN y\n",
    "         \"\"\"\n",
    "results = kg.query(cypher)\n",
    "results\n"
   ]
  },
  {
   "cell_type": "code",
   "execution_count": 78,
   "metadata": {},
   "outputs": [],
   "source": [
    "# Add the co_requisite relationship \n",
    "def link_corequisite(neo4j_graph, filepath):\n",
    "    df = pd.read_csv(filepath)\n",
    "\n",
    "    for index, row in df.iterrows():\n",
    "        if row[\"corequisiteType\"] == \"Course\":\n",
    "            cypher_query = \"\"\"\n",
    "                           MATCH (pre: Course {courseCode: $corequisiteValue})\n",
    "                           MATCH (c: Course {courseCode: $courseCode})\n",
    "                           MERGE (pre)-[:CO_REQUISITE_FOR]->(c)\n",
    "                           \"\"\"\n",
    "            parameters = {\n",
    "               \"corequisiteValue\": row[\"corequisiteValue\"],\n",
    "               \"courseCode\": row[\"courseCode\"]\n",
    "            }\n",
    "\n",
    "            try:\n",
    "                neo4j_graph.query(cypher_query, parameters)\n",
    "                logging.info(f\"Linked Corequisite Course {row['corequisiteValue']} to Course {row['courseCode']}\")\n",
    "            except Exception as e:\n",
    "                logging.error(f\"Error linking Corequisite Course {row['corequisiteValue']} to Course {row['courseCode']}: {e}\")\n"
   ]
  },
  {
   "cell_type": "code",
   "execution_count": 79,
   "metadata": {},
   "outputs": [],
   "source": [
    "link_corequisite(kg, \"data/co_requisite_relationships.csv\")"
   ]
  },
  {
   "cell_type": "code",
   "execution_count": 82,
   "metadata": {},
   "outputs": [],
   "source": [
    "# Add the offered_by relationship between courseCode and degree\n",
    "def link_degree_course(neo4j_graph, filepath):\n",
    "    df = pd.read_csv(filepath)\n",
    "\n",
    "    for index, row in df.iterrows():\n",
    "        cypher_query = \"\"\"\n",
    "                        MATCH (c: Course {courseCode: $courseCode})\n",
    "                        MATCH (d: Degree {degreeCode: $degreeCode})\n",
    "                        MERGE (c)-[:OFFERED_BY]->(d)\n",
    "                        \"\"\"\n",
    "        parameters = {\n",
    "            \"courseCode\": row[\"courseCode\"],\n",
    "            \"degreeCode\": row[\"degreeCode\"]\n",
    "        }\n",
    "\n",
    "        try:\n",
    "            neo4j_graph.query(cypher_query, parameters)\n",
    "            logging.info(f\"Linked Course {row['courseCode']} to Degree {row['degreeCode']}\")\n",
    "        except Exception as e:\n",
    "            logging.error(f\"Error linking Course {row['courseCode']} to Degree {row['degreeCode']}: {e}\")\n"
   ]
  },
  {
   "cell_type": "code",
   "execution_count": 83,
   "metadata": {},
   "outputs": [],
   "source": [
    "link_degree_course(kg, \"data/offered_by_relationship.csv\")"
   ]
  },
  {
   "cell_type": "code",
   "execution_count": 87,
   "metadata": {},
   "outputs": [],
   "source": [
    "# Add the has_type relationship between course and type\n",
    "def link_course_type(neo4j_graph, filepath):\n",
    "    df = pd.read_csv(filepath)\n",
    "\n",
    "    for index, row in df.iterrows():\n",
    "        cypher_query = \"\"\"\n",
    "                        MATCH (c: Course {courseCode: $courseCode})\n",
    "                        MATCH (t: Type {typeName: $typeName})\n",
    "                        MERGE (c)-[:HAS_TYPE]->(t)\n",
    "                        \"\"\"\n",
    "        parameters = {\n",
    "            \"courseCode\": row[\"courseCode\"],\n",
    "            \"typeName\": row[\"typeName\"]\n",
    "        }\n",
    "\n",
    "        try:\n",
    "            neo4j_graph.query(cypher_query, parameters)\n",
    "            logging.info(f\"Linked Course {row['courseCode']} to type {row['typeName']}\")\n",
    "        except Exception as e:\n",
    "            logging.error(f\"Error linking Course {row['courseCode']} to type {row['typeName']}: {e}\")\n"
   ]
  },
  {
   "cell_type": "code",
   "execution_count": 88,
   "metadata": {},
   "outputs": [],
   "source": [
    "link_course_type(kg, \"data/has_type_relationship.csv\")"
   ]
  },
  {
   "cell_type": "code",
   "execution_count": 89,
   "metadata": {},
   "outputs": [],
   "source": [
    "# Add the offers_degree relationship between degree and school\n",
    "def link_degree_school(neo4j_graph, filepath):\n",
    "    df = pd.read_csv(filepath)\n",
    "\n",
    "    for index, row in df.iterrows():\n",
    "        cypher_query = \"\"\"\n",
    "                        MATCH (d: Degree {degreeCode: $degreeCode})\n",
    "                        MATCH (s: School {schoolCode: $schoolCode})\n",
    "                        MERGE (s)-[:OFFERS_DEGREE]->(d)\n",
    "                        \"\"\"\n",
    "        parameters = {\n",
    "            \"degreeCode\": row[\"degreeCode\"],\n",
    "            \"schoolCode\": row[\"schoolCode\"]\n",
    "        }\n",
    "\n",
    "        try:\n",
    "            neo4j_graph.query(cypher_query, parameters)\n",
    "            logging.info(f\"Linked School {row['schoolCode']} to degree {row['degreeCode']}\")\n",
    "        except Exception as e:\n",
    "            logging.error(f\"Error linking School {row['schoolCode']} to degree {row['degreeCode']}: {e}\")\n"
   ]
  },
  {
   "cell_type": "code",
   "execution_count": 90,
   "metadata": {},
   "outputs": [],
   "source": [
    "link_degree_school(kg, \"data/offers_degree_relationship.csv\")"
   ]
  },
  {
   "cell_type": "markdown",
   "metadata": {},
   "source": [
    "#### Scheduled IN \n",
    "- A single course can be scheduled in multiple semesters across different degree programs.\n",
    "- Different degrees may have unique scheduling requirements for the same course.\n",
    "- The system should flexibly manage these relationships and allow for efficient querying. \n",
    "To achieve this, the graph schema must accurately represent the many-to-many relationships between degrees, courses, and semesters. \n",
    "\n",
    "##### Proposed Graph Schema\n",
    "To effectively model the complex scheduling relationships, we will introduce an intermediate node called `ScheduledOffering`. This node serves as a bridge between Degrees, Courses, and Semesters, encapsulating the scheduling details. "
   ]
  },
  {
   "cell_type": "raw",
   "metadata": {
    "vscode": {
     "languageId": "raw"
    }
   },
   "source": [
    "(:Degree) -[:HAS_SCHEDULED_OFFERING]-> (:ScheduledOffering) -[:INCLUDES]-> (:Course)\n",
    "                                                  |\n",
    "                                                  -[:SCHEDULED_IN]-> (:Semester)\n",
    "\n",
    "(:Course) -[:BELONGS_TO_SCHOOL]-> (:School)\n",
    "        -[:HAS_TYPE]-> (:Type)\n",
    "        -[:HAS_PREREQUISITE_GROUP]-> (:PrerequisiteGroup) -[:REQUIRES]-> (:Course | :Year)\n",
    "\n",
    "(:Degree) -[:OFFERS_SCHOOL]-> (:School)"
   ]
  },
  {
   "cell_type": "code",
   "execution_count": 105,
   "metadata": {},
   "outputs": [],
   "source": [
    "def link_course_to_degree(neo4j_graph, filepath):\n",
    "    df = pd.read_csv(filepath)\n",
    "    for index, row in df.iterrows():\n",
    "        # Create a ScheduledOffering node\n",
    "        offering_id = f\"{row['degreeCode']}_{row['semester']}\"\n",
    "        cypher_offering = \"\"\"\n",
    "        MERGE (so:ScheduledOffering {offeringId: $offeringId})\n",
    "        \"\"\"\n",
    "        parameters_offering = {\n",
    "            \"offeringId\": offering_id\n",
    "        }\n",
    "        try:\n",
    "            neo4j_graph.query(cypher_offering, parameters_offering)\n",
    "            logging.info(f\"Created/Found ScheduledOffering: {offering_id}\")\n",
    "        except Exception as e:\n",
    "            logging.error(f\"Error creating ScheduledOffering {offering_id}: {e}\")\n",
    "\n",
    "        # Link Degree to ScheduledOffering\n",
    "        cypher_degree_link = \"\"\"\n",
    "                             MATCH (d:Degree {degreeCode: $degreeCode}), (so: ScheduledOffering {offeringId: $offeringId})\n",
    "                             MERGE (d)-[:HAS_SCHEDULED_OFFERING]->(so)\n",
    "                             \"\"\"\n",
    "        \n",
    "        parameters_degree_link = {\n",
    "            \"degreeCode\": row[\"degreeCode\"],\n",
    "            \"offeringId\": offering_id\n",
    "        }\n",
    "        try:\n",
    "            neo4j_graph.query(cypher_degree_link, parameters_degree_link)\n",
    "            logging.info(f\"Linked Degree {row['degreeCode']} to ScheduledOffering {offering_id}\")\n",
    "        except Exception as e:\n",
    "            logging.error(f\"Error linking Degree {row['degreeCode']} to ScheduledOffering {offering_id}: {e}\")\n",
    "\n",
    "        # Link the course to the ScheduleOffering\n",
    "        cypher_course_link = \"\"\"\n",
    "                             MATCH (so: ScheduledOffering {offeringId: $offeringId}), (c: Course {courseCode: $courseCode})\n",
    "                             MERGE (so)-[:INCLUDES]-(c)\n",
    "                             \"\"\"\n",
    "        parameters_course_link = {\n",
    "            \"courseCode\": row[\"courseCode\"],\n",
    "            \"offeringId\": offering_id\n",
    "        }\n",
    "        try:\n",
    "            neo4j_graph.query(cypher_course_link, parameters_course_link)\n",
    "            logging.info(f\"Linked Course {row['courseCode']} to ScheduledOffering {offering_id}\")\n",
    "        except Exception as e:\n",
    "            logging.error(f\"Error linking Course {row['courseCode']} to ScheduledOffering {offering_id}: {e}\")\n",
    "\n",
    "        "
   ]
  },
  {
   "cell_type": "code",
   "execution_count": 106,
   "metadata": {},
   "outputs": [],
   "source": [
    "link_course_to_degree(kg, \"data/scheduled_offering_relationship.csv\")"
   ]
  },
  {
   "cell_type": "code",
   "execution_count": 108,
   "metadata": {},
   "outputs": [
    {
     "name": "stdout",
     "output_type": "stream",
     "text": [
      "[{'c': {'courseCode': 'SC1003', 'academicUnits': 3, 'description': 'Computational thinking (CT) is the process of analyzing a problem then designing and expressing its solution in such a way that a computer can effectively carry it out. This course aims to take students with no prior experience of thinking in a computational manner to a point where they can derive simple algorithms and code programs to solve basic problems in their domain of studies. Topics also include basic program constructs, simple data structures, and an appreciation of the internal operations of a processor.', 'title': 'Introduction to Computational Thinking and Programming'}}, {'c': {'courseCode': 'SC1004', 'academicUnits': 4, 'description': 'This course aims to support you to learn mathematical concepts related to linear algebra and complex numbers. You will develop set of mathematical skills for applications in computer science and engineering, e.g., machine learning, computer graphics, data science etc.', 'title': 'Linear Algebra For Computing'}}, {'c': {'courseCode': 'SC1005', 'academicUnits': 3, 'description': 'This course aims to develop your ability to analyse and design digital circuits. The design and behaviour of modern digital equipment (e.g. mobile phones and personal computers) are based on functions of binary variables. This course provides you the knowledge to analyse the theoretical characteristics and the skills required for practical technology driven implementations of digital circuits. This course provides an introductory perspective of digital circuits design. It is relevant for anyone pursuing a career in the ICT industry - including those in digital systems, computer architecture and microprocessor based systems design.', 'title': 'Digital Logic'}}, {'c': {'courseCode': 'MH1812', 'academicUnits': 3, 'description': 'This course serves as an introduction to various topics in discrete mathematics. Familiarity with formal analysis through simple problems in some basic discrete structures is a key objective rather than knowing these structures in depth. Specifically, the main aim is to learn topics from the following broad areas of discrete mathematics: number theory, logic, combinatorics, and graph theory. This course aims to provide students with a solid mathematical foundation and is intended for first year computer science and computer engineering students.', 'title': 'Discrete Mathematics'}}, {'c': {'courseCode': 'CC0003', 'academicUnits': 2, 'description': 'This course aims to equip students with the philosophical foundations necessary to understand theories of ethics and subsequently apply those theories to real-life scenarios and issues. It also aims to enable students to critically assess the civic institutions that structure their local and global communities. To these ends, the course will examine the nature of ethics, its understanding across different cultures, and how it is manifested in concepts, social structures, and governance institutions. Topics to be explored include human rights, democracy, freedom of speech, inequality, and sexuality. The rights and duties of citizenship shall be a unifying theme. Students will think through assumptions they hold on all of these matters. They will be provided with the tools to understand various and even contradictory perspectives on these important issues.', 'title': 'Ethics & Civics in a Multicultural World'}}, {'c': {'courseCode': 'CC0005', 'academicUnits': 3, 'description': \"This course is part of the NTU 2025 Education - Common Foundational & Interdisciplinary Collaborative Curriculum (ICC). It aims to provide multi-disciplinary competence in a cross-disciplinary, collaborative learning environment, with student interaction and collaboration across schools as a key learning foundation. As the title connotes, the main objective of this undergraduate course is to examine what constitutes living a good, healthy and flourishing life. According to research, individuals around the world pursue this 'flourishing life' in different ways, be it through improving one's physical fitness, seeking authentic relationships with others, or making a positive change in the environment. Thus, knowing and understanding how the different components of a 'good life' contribute to one's overall functioning is critical to one's healthy wellbeing. The latter, in turn, affords many benefits such as better health (physical, mental and emotional health) and stronger relationships. By the end of this course, you would have developed an awareness of what constitutes living a healthy and flourishing life, both of which indirectly contribute to a successful undergraduate education.\\n \", 'title': 'Healthy Living & Wellbeing'}}, {'c': {'courseCode': 'HW0001', 'academicUnits': 0, 'description': 'The course aims to support you in your academic writing and reading skills across a wide range of disciplines. This course will provide opportunities for you to read current event articles widely and critically. As a result, you will learn to evaluate opinions and formulate well-substantiated arguments.', 'title': 'Introduction to Academic Communication'}}, {'c': {'courseCode': 'SC1006', 'academicUnits': 3, 'description': 'Computer Hardware Decomposition; Solid-state memory subsystems; Magnetic memory; Input/Output techniques; The central processor unit; How high level code is `executed?; Quantifying and comparing performance; Computer arithmetic; Towards higher speed.', 'title': 'Computer Organisation & Architecture'}}, {'c': {'courseCode': 'SC1007', 'academicUnits': 3, 'description': 'This course aims to (i) teach the concepts, implementations and applications of data structures such as arrays, linked lists, stacks, queues and trees that are important for building efficient algorithms; (ii) provide an introduction to algorithm analysis and design. These are essential for future computer science and computer engineering courses.', 'title': 'Data Structures & Algorithm'}}, {'c': {'courseCode': 'SC1008', 'academicUnits': 3, 'description': nan, 'title': 'C and C++ Programming'}}, {'c': {'courseCode': 'SC2000', 'academicUnits': 3, 'description': 'This course aims to develop your foundation in engineering mathematics, particularly in probability and statistics. This course provides the basic engineering mathematics foundation that is necessary for anyone pursuing a computer science and engineering degree course.', 'title': 'Probability & Statistics for Computing'}}, {'c': {'courseCode': 'SC2002', 'academicUnits': 3, 'description': 'The object-oriented paradigm to the design of software is one major successful approach to address complexity and maintainability issues in software systems. We want students to establish an object-oriented mindset and to gain valuable insights into how software can be developed using the object-oriented approach. This course should not be interpreted to be a pure programming language course. Rather, the programming language serves to illustrate, via practical examples, the concepts learnt in the course. As a student of this course, you will learn essential object-oriented concepts such as encapsulation, the separation of design from implementation, the use of inheritance and polymorphism. Finally, you will also learn good design principles for reuse, and to realise these principles using object-oriented programming languages such as Java and/or C++.', 'title': 'Object Oriented Design & Programming'}}, {'c': {'courseCode': 'CC0001', 'academicUnits': 2, 'description': \"Researchers agree that writing is a tool for thinking (Menary, 2007; Klein & Boscolo, 2016; Miller and Jurecic, 2016; Reis, n.d.). As Reis explains, 'The bodily act of writing externalizes our thoughts, and the imposed structure (the written word) provides a vehicle by which those thoughts may be reorganized into new thinking, a new way of seeing the thoughts or a new way of organizing thoughts.' Miller and Jurecic similarly argue that 'writers discover what they think not before they write but in the act of writing' (2016, p. 60). One of the main aims of this course is to allow you to experience writing as a tool for thinking and to practice expressing ideas in formal writing and oral communication. While you will have the opportunity to understand and practice the genre conventions that are specific to your discipline later in your studies, this first common communication course is designed to help you form habits of mind that will serve you across the university and even in the world outside of the university. Taken by all first-year undergraduates, this foundational course will develop your written and oral communication skills, as well as your ability to read and analyze texts. It will help you to understand revision as integral to the process of composition, to convey your interpretations and ideas with confidence and clarity, and to consider audience and purpose when you communicate.\", 'title': 'Inquiry & Communication in an Interdisciplinary World'}}, {'c': {'courseCode': 'CC0002', 'academicUnits': 2, 'description': \"With digitalization now becoming the new normal in our daily life, this course seeks to equip students from different disciplines with problem?solving techniques with the aid of computers and to enable them to acquire some common but essential digital skills that are crucial in today's workforce. In this course, students will learn how to apply the concept of computational thinking and quantitative reasoning to solve problems and analyze data. They will also learn how to identify online threats and understand the principles of ethics and intellectual property rights in the digital world. They will also be exposed to current issues in the digital world, which they can better understand through the logic of computational thinking and quantitative reasoning, such as cybersecurity and the rise of fake news. In addition, students will also learn how to use some of the latest online tools for effective presentation, communication, and collaborative skills in teams during the course.\", 'title': 'Navigating the Digital World'}}, {'c': {'courseCode': 'SC2001', 'academicUnits': 3, 'description': 'This course aims to develop your knowledge, understanding and skills about algorithm design and analysis. Upon the successful completion of this course, students shall be able to (i) apply additional analysis techniques in complexity analysis of recursive algorithms; (ii) apply, design and analyse algorithms using a number of approaches to solve various problems like sorting, shortest-path, minimum spanning tree, optimal sequencing for matrix multiplication, the longest common subsequence, string matching. Students will also learn the concepts of complexity classes P & NP and apply greedy heuristic approach to solve NP-complete problems.', 'title': 'Algorithm Design & Analysis'}}, {'c': {'courseCode': 'SC2005', 'academicUnits': 3, 'description': 'This course aims to develop your understanding of fundamental concepts and principles of modern operating systems, and to build your knowledge on the design and implementation of main operating system components.', 'title': 'Operating Systems'}}, {'c': {'courseCode': 'SC2203', 'academicUnits': 3, 'description': nan, 'title': 'Automata. Computability and Complexity'}}, {'c': {'courseCode': 'SC2006', 'academicUnits': 3, 'description': 'Introduction to Software Engineering; Software Engineering Process; Introduction to Requirements; Introduction to Software Specifications; Software Design and Construction; Testing and Integration; Software Maintenance; Software Project Management; Software Quality; Dependability and Security', 'title': 'Software Engineering'}}, {'c': {'courseCode': 'SC2008', 'academicUnits': 3, 'description': 'This course serves as a foundation for computer and communication networks. Emphasis is placed on concepts, protocols and technologies, which formulate various Local Area Networks (LANs), Wide area Networks (WANs), and their interconnections. Emphasis is also placed on the fundamentals of the Internet, and includes laboratory sessions on socket programming. Advanced materials, such as, cloud computing, will also be covered to prepare you well for your future career.', 'title': 'Computer Network'}}, {'c': {'courseCode': 'CC0007', 'academicUnits': 3, 'description': 'The course aims to inspire a long-lasting mindset of awareness, critical thinking, curiosity, and collaboration across disciplines through the lens of contemporary and near-future challenges for human communities in relation to scientific and technological innovations. Students will learn to perceive and analyze the potential benefits and costs of scientific/technological innovations and applications from different perspectives and on different scales. Students will then use these skills to identify real-life challenges and to propose solutions.', 'title': 'Science & Technology For Humanity'}}, {'c': {'courseCode': 'SC2207', 'academicUnits': 3, 'description': 'Overview of Database Management Systems (DBMS); Entity-Relationship Data Model; Relational Data Model; Functional Dependencies (FD) and Normalization; Relational Algebra; Structured Query Language (SQL); Storage of Relational Data; Indexing Techniques; Query Processing and Optimization; Transaction Management and Concurrency Control', 'title': 'Introduction to Databases'}}, {'c': {'courseCode': 'CC0006', 'academicUnits': 3, 'description': \"Sustainability stresses the importance of future development to meet the needs of the present without compromising the ability of future generations to meet their needs. This concept is a culmination of economic, environmental, and social discourse throughout the last few decades. The United Nations (UN) declared a Decade of Education for Sustainable Development (DESD) with the aim to promote 'a more sustainable world through different forms of education, training and public awareness activities'. This provides an opportunity to reconsider approaches undertaken to address global challenges. It is imperative that pedagogical directions for higher education institutions address the foundations of sustainable development across different disciplines due to its complex and multi-faceted nature that encompasses a full spectrum of socio-economic-environmental issues. As such, this course aims to stimulate critical thinking, curiosity, and the ability to structure and synthesise knowledge through the lens of sustainability. Learning will be reinforced by concrete case studies with a focus on topics such as resource management, pollution, responsible consumption, and climate change. The course will require systematic analyses of major current sustainability challenges from the perspectives of society, economy, and the environment, and look at how we can promote a more sustainable world through choices and actions, as individuals, societies, nations, and as a global community. Through this learning process, students will acquire a systems thinking approach to sustainability that enhances knowledge and skills sets relevant to various disciplines and career paths. This course hopes to inspire and equip students to be agents of change toward a more sustainable world.\", 'title': 'Sustainability: Society, Economy & Environment'}}, {'c': {'courseCode': 'ML0004', 'academicUnits': 2, 'description': 'Having a creative and enterprising mindset can assist students in successfully manoeuvring through the VUCA world. It is crucial for students to nurture certain qualities associated with an enterprising mindset, including embracing uncertainty and change, honing critical thinking skills, and exhibiting a collaborative and adaptable nature. These qualities are vital in helping students to prepare for a rapidly evolving environment. The concept of \"designing your work life\" can be a valuable tool, inspiring students to explore their career options and possibilities by considering their values, interests, personality traits, and skills (VIPS) through prototype conversations. With more local employers emphasising skills-based hiring and retention, it is essential for students to continuously enhance their proficiency in relevant and sought-after skills to be well-prepared for the future of work.', 'title': 'Career & Innovative Enterprise for the Future World'}}, {'c': {'courseCode': 'SC2079', 'academicUnits': 4, 'description': 'Seminars and Workshops - Throughout the MDP, students will be required to attend relevant seminars and workshops that would help them understand the process and tools for designing, developing and marketing of real-world multidisciplinary products. These include both general and technical seminars. General seminars may cover topics such as guided innovation, multidisciplinary problem solving, working effectively in engineering teams, understanding effective marketing strategies, project management, professional, ethical and moral responsibilities etc. Technical seminars and workshops will be related to specific engineering methodology and tools that can help students implement their respective ideas. These may include systems engineering and design, large-scale web systems, embedded systems development tools, etc. In their implementation, students will have to factor in appropriate considerations for public health and safety, cultural, societal factors, environmental and other constraints as well as the needs for sustainable development. Laboratories - Laboratory during MDP will be a mixed of guided and open accessed sessions. Teams - Students will be grouped into teams of about 6-7 member. The composition of these team members will consist of a multidisciplinary mix of CS, CE and BCG students. Supervision - Each team will be assigned a faculty mentor during the MDP.', 'title': 'Multidisciplinary Design Project'}}, {'c': {'courseCode': 'HW0288', 'academicUnits': 2, 'description': 'HW0288 is an advanced course which aims to enhance the spoken and written abilities of engineering students when communicating in both academic and professional settings. In this course, the emphasis is on advanced skills in academic and professional communication. In the academic literacy and information literacy components of the course, you learn advanced skills for searching academic databases, evaluating sources and incorporating and citing them appropriately in your writing. In the professional communication component of the course, you learn written and oral workplace communication skills such as writing emails, participating at meetings, interacting with clients and projecting a professional image of yourself.', 'title': 'Engineering Communication'}}, {'c': {'courseCode': 'SC3079', 'academicUnits': 10, 'description': nan, 'title': 'Professional Internship'}}, {'c': {'courseCode': 'SC4079', 'academicUnits': 8, 'description': nan, 'title': 'Final Year Project'}}, {'c': {'courseCode': 'SC4079', 'academicUnits': 8, 'description': nan, 'title': 'Final Year Project'}}]\n"
     ]
    }
   ],
   "source": [
    "cypher_query = \"\"\" \n",
    "               MATCH (d:Degree {degreeCode: \"CSC\"})-[:HAS_SCHEDULED_OFFERING]->(so:ScheduledOffering)-[:INCLUDES]-(c:Course)\n",
    "               RETURN c\n",
    "               \"\"\"\n",
    "\n",
    "result = kg.query(cypher_query)\n",
    "print(result)"
   ]
  },
  {
   "cell_type": "code",
   "execution_count": 109,
   "metadata": {},
   "outputs": [],
   "source": [
    "def link_course_to_specialisation(neo4j_graph, filepath):\n",
    "    df = pd.read_csv(filepath)\n",
    "    for index, row in df.iterrows():\n",
    "        # Create a SpecialisationTrack node\n",
    "        specialisation_id = f\"{row['degreeCode']}_{row['specialisationName']}\"\n",
    "        cypher_offering = \"\"\"\n",
    "        MERGE (st:SpecialisationTrack {specialisation_id: $specialisation_id})\n",
    "        \"\"\"\n",
    "        parameters_offering = {\n",
    "            \"specialisation_id\": specialisation_id\n",
    "        }\n",
    "        try:\n",
    "            neo4j_graph.query(cypher_offering, parameters_offering)\n",
    "            logging.info(f\"Created/Found SpecialisationTrack: {specialisation_id}\")\n",
    "        except Exception as e:\n",
    "            logging.error(f\"Error creating SpecialisationTrack {specialisation_id}: {e}\")\n",
    "\n",
    "        # Link Degree to SpecialisationTrack\n",
    "        cypher_degree_link = \"\"\"\n",
    "                             MATCH (d:Degree {degreeCode: $degreeCode}), (st: SpecialisationTrack {specialisation_id: $specialisation_id})\n",
    "                             MERGE (d)-[:HAS_SPECIALISATION_TRACK]->(st)\n",
    "                             \"\"\"\n",
    "        \n",
    "        parameters_degree_link = {\n",
    "            \"degreeCode\": row[\"degreeCode\"],\n",
    "            \"specialisation_id\": specialisation_id\n",
    "        }\n",
    "        try:\n",
    "            neo4j_graph.query(cypher_degree_link, parameters_degree_link)\n",
    "            logging.info(f\"Linked Degree {row['degreeCode']} to SpecialisationTrack {specialisation_id}\")\n",
    "        except Exception as e:\n",
    "            logging.error(f\"Error linking Degree {row['degreeCode']} to SpecialisationTrack {specialisation_id}: {e}\")\n",
    "\n",
    "        # Link the course to the ScheduleOffering\n",
    "        cypher_course_link = \"\"\"\n",
    "                             MATCH (st: SpecialisationTrack {specialisation_id: $specialisation_id}), (c: Course {courseCode: $courseCode})\n",
    "                             MERGE (st)-[:CONTAINS]-(c)\n",
    "                             \"\"\"\n",
    "        parameters_course_link = {\n",
    "            \"courseCode\": row[\"courseCode\"],\n",
    "            \"specialisation_id\": specialisation_id\n",
    "        }\n",
    "        try:\n",
    "            neo4j_graph.query(cypher_course_link, parameters_course_link)\n",
    "            logging.info(f\"Linked Course {row['courseCode']} to SpecialisationTrack {specialisation_id}\")\n",
    "        except Exception as e:\n",
    "            logging.error(f\"Error linking Course {row['courseCode']} to SpecialisationTrack {specialisation_id}: {e}\")\n",
    "\n",
    "        "
   ]
  },
  {
   "cell_type": "code",
   "execution_count": 110,
   "metadata": {},
   "outputs": [],
   "source": [
    "link_course_to_specialisation(kg, \"data/specialisation_courses_relationship.csv\")"
   ]
  },
  {
   "cell_type": "code",
   "execution_count": 111,
   "metadata": {},
   "outputs": [
    {
     "name": "stdout",
     "output_type": "stream",
     "text": [
      "[{'c': {'courseCode': 'SC3000', 'academicUnits': 3, 'description': 'Computer / software engineers are involved in effective and efficient building of knowledge agent systems that satisfy the requirements of users; possibly software for intelligent embedded and intelligent information systems. General awareness of theory, knowledge, and practice in all phases of the knowledge based systems and representation techniques for problem solving are necessary for those of you who wants to get into the field artificial intelligence. These are advanced intelligent systems that are finding widespread applications in finance, banking, manufacturing industries.', 'title': 'Artificial Intelligence'}}, {'c': {'courseCode': 'SC4000', 'academicUnits': 3, 'description': 'This course introduces basic concepts and methodologies for machine learning as well as their applications. Clustering. Dimension Reduction. Classification. Decision Theory. Density Estimation. Classifier Evaluation.', 'title': 'Machine Learning'}}, {'c': {'courseCode': 'SC4002', 'academicUnits': 3, 'description': 'This course introduces natural language processing at a basic level. 1. Basic concepts of syntax, semantics, and grammar formalisms 2. Basic techniques of language modelling, part-of-speech tagging, parsing, and semantic analysis 3. Well-known applications of natural language processing, such as machine translation and information extraction, and their evaluations', 'title': 'Natural Language Processing'}}, {'c': {'courseCode': 'SC4003', 'academicUnits': 3, 'description': nan, 'title': 'Intelligent Agents'}}, {'c': {'courseCode': 'SC4061', 'academicUnits': 3, 'description': 'Image formation and segmentation. Image acquisition. Image representations and organisations. Digital image characterisation. Image enhancement and restoration. Image coding and data compression. Geometry for 3D vision. Pattern recognition using neural networks. Image analysis and understanding. Machine vision applications.', 'title': 'Computer Vision'}}, {'c': {'courseCode': 'SC3010', 'academicUnits': 3, 'description': 'This course aims to equip you with foundational knowledge on many important security issues and techniques required for cyber security. You will have the knowledge of different security policies and security models, and have the ability to recognise security features and discover pitfalls in computing systems, including the operating system and software.', 'title': 'Computer Security'}}, {'c': {'courseCode': 'SC4010', 'academicUnits': 3, 'description': 'Summary: Cryptography is the foundational building block of Cybersecurity and Privacy. While the field of classical cryptography dealt with security and privacy of data in transit, the modern take on the subject has generalized the scope of its applications to ensuring security and privacy of all forms of digital communication, computation, automation, interaction, transaction and preservation. Thus, it is important to understand the technical aspects of cryptography to appreciate its applications in cybersecurity. The Aim: This cryptography course in Computer Science and Engineering aims to develop your ability to understand how cryptographic algorithms work, to identify the problems associated with the application of cryptography in real-world scenarios, and explain the operation of various cryptographic mechanisms. This course will equip you to know deeply the fundamentals of symmetric key ciphers, hash functions and public key ciphers, enabling you to understand and develop secure cryptography solutions in real life cryptography. It will also introduce you to popular cryptographic libraries and APIs for hands-on implementation of security mechanisms, and some prominent cryptographic standards, guidelines and frameworks from the industry and government bodies.', 'title': 'Applied Cryptography'}}, {'c': {'courseCode': 'SC4011', 'academicUnits': 3, 'description': 'This course aims to develop your ability to identify the problems associated with (cyber and information) security management and understand using case studies that to effectively address them, one needs to design solutions that encompass multiple dimensions, including technology, people, processes and (internal as well as external) regulations. This course provides an introductory but broad perspective of cyber and information security, and is relevant for anyone pursuing a career in the IT/ICT industry ? including those in product design and development, security engineering, penetration testing, network/system administration, as well as, given the proliferation of IT in all walks of our lives, in executive roles across industries and government.', 'title': 'Security Management'}}, {'c': {'courseCode': 'SC4012', 'academicUnits': 3, 'description': 'This course aims to develop skills in software security. It focuses on security attacks launched by supplying specially crafted inputs to software components that modify the intended behaviours of those components, and the secure coding techniques (defences). The modified behaviours of the software components become security critical in a connected world where application systems are constructed from a collection of software components. Software developers who are not familiar with software security are likely to omit suitable defences out of ignorance. As such, this course will equip you with the deep knowledge about software security attack and defence techniques, a skill necessary to become IT security experts or professional software developers.', 'title': 'Software Security'}}, {'c': {'courseCode': 'SC4013', 'academicUnits': 3, 'description': 'Web applications have become the cornerstone of our digital lives, yet they also represent a critical vulnerability on the ever-expanding cyber battlefield. Malicious actors relentlessly probe these applications for weaknesses, aiming to steal sensitive data, disrupt operations, or compromise user privacy. In this dynamic landscape, security professionals with expertise in web application security are the cyber sentinels - the highly skilled defenders who identify, assess, and mitigate threats before they can exploit critical vulnerabilities. This intensive course is designed to equip students with the comprehensive knowledge and practical skills necessary to thrive in this in-demand field. Students will gain a deep understanding of web application security principles, master industry-standard testing methodologies, and develop the expertise to identify and exploit vulnerabilities in simulated environments. By the end, students will be well-prepared to launch a successful career as a web application security professional, playing a vital role in protecting our digital infrastructure.', 'title': 'Application Security'}}, {'c': {'courseCode': 'SC4014', 'academicUnits': 3, 'description': \"Malware analysis is a specialization within cyber security. Malware attacks are often detrimental to companies or organizations. When malware breaches an organization's defences, the security team needs to act quickly to cure current infections and prevent it from re-occurring. Understanding the capabilities of the malware is critical to an organization's ability to quickly create a signature to prevent the widespread of the malware across the network, to block further communications from the attacker. This understanding could also be translated to valuable knowledge in identifying existing security gaps within an organization's system and fortify defences. This course aims to build a strong foundation to perform triage on malicious software using a variety of system and network monitoring utilities, a disassembler, a debugger and many other freely available tools.\", 'title': 'Concepts and Techniques for Malware Analysis'}}, {'c': {'courseCode': 'SC4015', 'academicUnits': 3, 'description': 'Cyber physical systems are typically designed as a network of interacting elements with physical input and output, and are characterized by the interaction between the physical world (sensors, user inputs, actuators) and the cyber world (processing, decision making). Cyber physical systems are the driving force behind modern civilization, being integral part of technologies, such as additive manufacturing, smartcard-based payment, power delivery systems, drone-based operations, and smart home automation. Cyber physical systems are characterized by stringent performance requirements, such as, extremely low energy budget, small area footprint and often hard real-time constraints. Due to the pervasive nature of the cyber physical systems in our everyday lives, it also runs the risk of huge security hazards. In this course, we will learn about the basics of cyber physical systems, including the design principles and methodologies. Further, there will be a detailed treatment of the security challenges for cyber physical systems, which vary in practice due to the diverse nature of the application environment of cyber physical systems. These different forms of security breaches, observed across diverse cyber physical systems, will be put in a well-characterized taxonomy, to be systematically identified as attack surfaces. The techniques to handle these attacks will be described in a generic manner, including key management and wireless/RFID communication. The attack surfaces and protection/mitigation principles will then be elaborated with practical case studies, from the representative cyber physical systems such as automotive, smart card systems and smart grid.', 'title': 'Cyber Physical System Security'}}, {'c': {'courseCode': 'SC4016', 'academicUnits': 3, 'description': 'This course aims to introduce Cyber Threat Intelligence as a concept and teach students the approach and different techniques for managing and processing Cyber Threat Intelligence ? from collections to prioritization of assets and to better leverage tactical, operational, and strategic-level threat intelligence as well as to better comprehend, synthesize, and leverage cyber threat intelligence to respond to different cyber situations.', 'title': 'Cyber Threat Intelligence'}}, {'c': {'courseCode': 'SC4000', 'academicUnits': 3, 'description': 'This course introduces basic concepts and methodologies for machine learning as well as their applications. Clustering. Dimension Reduction. Classification. Decision Theory. Density Estimation. Classifier Evaluation.', 'title': 'Machine Learning'}}, {'c': {'courseCode': 'SC4002', 'academicUnits': 3, 'description': 'This course introduces natural language processing at a basic level. 1. Basic concepts of syntax, semantics, and grammar formalisms 2. Basic techniques of language modelling, part-of-speech tagging, parsing, and semantic analysis 3. Well-known applications of natural language processing, such as machine translation and information extraction, and their evaluations', 'title': 'Natural Language Processing'}}, {'c': {'courseCode': 'SC3020', 'academicUnits': 3, 'description': 'Database management systems (DBMS) are designed to manage large and complex data sets. The fundamentals of the implementation of database management systems must be understood by all Computer Science students. This will help students to develop and design software systems utilizing databases, and equip students with the knowledge of managing data of large scale. Moreover, this should be understood by current and future business leaders so that they can offer strategic guidance based on an informed understanding of database business capabilities. This course provides the basis for achieving this goal.', 'title': 'Database System Principles'}}, {'c': {'courseCode': 'SC4020', 'academicUnits': 3, 'description': 'We live in a world where we are surrounded by systems that are incredibly complex, from the society, a collection of billions individuals, to communications systems, integrating billions of devices, from computers to cell phones. In fact, the existence of living beings in this planet depends on the ability of thousands of proteins to work together in a seamless fashion. Furthermore, our ability to comprehend our surroundings is heavily influenced by the activity of billions of neurons in our brain. Such complex systems can be represented as static or dynamic networks of many interacting components. These components are typically much simpler in terms of behavior or function than the overall system, implying that the additional complexity of the latter is an emergent network property. Network science is a new discipline that investigates the topology and dynamics of such complex networks, aiming to better understand the behavior, function and properties of the underlying systems. In this course, we will study algorithmic, computational, and statistical methods of network science, as well as its applications in solving real-world problems in communications, biology, sociology, and cyber security. The specific topics include network metrics, properties, and models, network querying and analytics, network dynamics, and distributed graph engines. Another pervasive goal of this course is to guide students into the future by presenting research that reveals the ?next big thing? in network science.', 'title': 'Data Analytics and Mining'}}, {'c': {'courseCode': 'SC4021', 'academicUnits': 3, 'description': nan, 'title': 'Information Retrieval'}}, {'c': {'courseCode': 'SC4022', 'academicUnits': 3, 'description': 'We live in a world where we are surrounded by systems that are incredibly complex, from the society, a collection of billions individuals, to communications systems, integrating billions of devices, from computers to cell phones. In fact, the existence of living beings in this planet depends on the ability of thousands of proteins to work together in a seamless fashion. Furthermore, our ability to comprehend our surroundings is heavily influenced by the activity of billions of neurons in our brain. Such complex systems can be represented as static or dynamic networks of many interacting components. These components are typically much simpler in terms of behavior or function than the overall system, implying that the additional complexity of the latter is an emergent network property. Network science is a new discipline that investigates the topology and dynamics of such complex networks, aiming to better understand the behavior, function and properties of the underlying systems. In this course, we will study algorithmic, computational, and statistical methods of network science, as well as its applications in solving real-world problems in communications, biology, sociology, and cyber security. The specific topics include network metrics, properties, and models, network querying and analytics, network dynamics, and distributed graph engines. Another pervasive goal of this course is to guide students into the future by presenting research that reveals the ?next big thing? in network science.', 'title': 'Network Science'}}, {'c': {'courseCode': 'SC4023', 'academicUnits': 3, 'description': \"We are in the 'Big Data' era - an extremely large amount of data is created every day. The world of data management has dramatically changed in the 'Big Data' era. This is primarily driven by multiple factors including cheaper storage costs, increasing availability of sensors, smart devices, social software, and availability of cloud computing infrastructure, and cheaper processing cost of large volumes of data due to dramatic advances in modern hardware (e.g., solid state disk, multicore CPUs, large memory). This seismic impact of big data has led to increasing demand in building scalable data infrastructures toward supporting real-world applications. This course aims to provide a broad understanding of big data and current technologies in managing and processing them. Key topics covered in this course include big data 5V's, memory hierarchy and its relation to big data systems, distributed storage and computation of big data, as well as NoSQL key-value stores. Upon completion of this course, you will learn to evaluate issues associated with big data management, learn how the data is stored in a distributed system and how queries and analytics run in parallel, and understand the design philosophy of real-world key-value stores.\", 'title': 'Big Data Management'}}, {'c': {'courseCode': 'SC4024', 'academicUnits': 3, 'description': \"The data visualisation course aims to provide computer science-oriented students with the principles and practice to design and present effective data visualisation solutions for different datasets and visualisation objectives. The course focuses on applying design considerations which take into account the human's visual and psychological characteristics, with the goal of designing effective and ethical visuals. The course also introduces students to the large variety of techniques and tools for visualising, exploring and interacting with both abstract and scientific data.\", 'title': 'Data Visualisation'}}]\n"
     ]
    }
   ],
   "source": [
    "cypher_query = \"\"\" \n",
    "               MATCH (d:Degree {degreeCode: \"CSC\"})-[:HAS_SPECIALISATION_TRACK]->(st:SpecialisationTrack)-[:CONTAINS]-(c:Course)\n",
    "               RETURN c\n",
    "               \"\"\"\n",
    "\n",
    "result = kg.query(cypher_query)\n",
    "print(result)"
   ]
  }
 ],
 "metadata": {
  "kernelspec": {
   "display_name": ".venv",
   "language": "python",
   "name": "python3"
  },
  "language_info": {
   "codemirror_mode": {
    "name": "ipython",
    "version": 3
   },
   "file_extension": ".py",
   "mimetype": "text/x-python",
   "name": "python",
   "nbconvert_exporter": "python",
   "pygments_lexer": "ipython3",
   "version": "3.12.4"
  }
 },
 "nbformat": 4,
 "nbformat_minor": 2
}
