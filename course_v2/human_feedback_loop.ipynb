{
 "cells": [
  {
   "cell_type": "markdown",
   "metadata": {},
   "source": [
    "<h2>Install knowledge_base_manager package</h2>"
   ]
  },
  {
   "cell_type": "code",
   "execution_count": 14,
   "metadata": {},
   "outputs": [
    {
     "name": "stdout",
     "output_type": "stream",
     "text": [
      "Looking in indexes: https://test.pypi.org/simple/\n",
      "Collecting knowledge-base-manager==0.1.13\n",
      "  Downloading https://test-files.pythonhosted.org/packages/c0/9e/0e79ed1888df24b68b370f2df0223849ee09eaa95db1ad996cdc9f43af42/knowledge_base_manager-0.1.13-py3-none-any.whl.metadata (8.7 kB)\n",
      "Downloading https://test-files.pythonhosted.org/packages/c0/9e/0e79ed1888df24b68b370f2df0223849ee09eaa95db1ad996cdc9f43af42/knowledge_base_manager-0.1.13-py3-none-any.whl (14 kB)\n",
      "Installing collected packages: knowledge-base-manager\n",
      "  Attempting uninstall: knowledge-base-manager\n",
      "    Found existing installation: knowledge-base-manager 0.1.12\n",
      "    Uninstalling knowledge-base-manager-0.1.12:\n",
      "      Successfully uninstalled knowledge-base-manager-0.1.12\n",
      "Successfully installed knowledge-base-manager-0.1.13\n"
     ]
    }
   ],
   "source": [
    "! pip install -i https://test.pypi.org/simple/ knowledge-base-manager==0.1.13"
   ]
  },
  {
   "cell_type": "markdown",
   "metadata": {},
   "source": [
    "<h2>Initialise Variables</h2>"
   ]
  },
  {
   "cell_type": "code",
   "execution_count": 1,
   "metadata": {},
   "outputs": [],
   "source": [
    "import os \n",
    "from dotenv import load_dotenv\n",
    "from knowledge_base_manager.core.qna_manager import QnAManager\n",
    "from knowledge_base_manager.core.knowledge_base_manager import KnowledgeBaseManager\n",
    "from knowledge_base_manager.types import Category\n",
    "\n",
    "# TODO: delete these temp imports\n",
    "from langchain_openai import AzureChatOpenAI"
   ]
  },
  {
   "cell_type": "code",
   "execution_count": 2,
   "metadata": {},
   "outputs": [],
   "source": [
    "\n",
    "# Defines the instance of AzureChatOpenAI class\n",
    "llm = AzureChatOpenAI(\n",
    "    azure_endpoint=os.environ.get(\"AZURE_OPENAI_ENDPOINT\"),\n",
    "    api_key=os.environ.get(\"AZURE_OPENAI_API_KEY\"),\n",
    "    deployment_name=os.environ.get(\"AZURE_OPENAI_DEPLOYMENT_NAME\"),\n",
    "    model_name=os.environ.get(\"AZURE_OPENAI_DEPLOYMENT_4o_NAME\"),\n",
    "    api_version=os.environ.get(\"AZURE_OPENAI_API_VERSION\"),\n",
    "    temperature=0,\n",
    ")"
   ]
  },
  {
   "cell_type": "code",
   "execution_count": 4,
   "metadata": {},
   "outputs": [
    {
     "name": "stderr",
     "output_type": "stream",
     "text": [
      "/Users/keenlim/Final-Year-Project/Development/Course_v2/.venv/lib/python3.12/site-packages/knowledge_base_manager/core/database_manager.py:17: UserWarning: You appear to be connected to a CosmosDB cluster. For more information regarding feature compatibility and support please visit https://www.mongodb.com/supportability/cosmosdb\n",
      "  self.client = pymongo.MongoClient(db_connection_str)\n"
     ]
    }
   ],
   "source": [
    "# import \n",
    "\n",
    "from functions.agents.human_loop.feedback import FeedbackRetrieval\n",
    "\n",
    "kb = FeedbackRetrieval()"
   ]
  },
  {
   "cell_type": "markdown",
   "metadata": {},
   "source": [
    "<h2>Usage</h2>"
   ]
  },
  {
   "cell_type": "code",
   "execution_count": 5,
   "metadata": {},
   "outputs": [
    {
     "data": {
      "text/plain": [
       "'coursegenie-qna'"
      ]
     },
     "execution_count": 5,
     "metadata": {},
     "output_type": "execute_result"
    }
   ],
   "source": [
    "# Create the index\n",
    "kb.create_index()"
   ]
  },
  {
   "cell_type": "code",
   "execution_count": 6,
   "metadata": {},
   "outputs": [
    {
     "data": {
      "text/plain": [
       "'coursegenie-qna'"
      ]
     },
     "execution_count": 6,
     "metadata": {},
     "output_type": "execute_result"
    }
   ],
   "source": [
    "# RESET index\n",
    "kb.kb_manager.delete_index_function()\n",
    "kb.create_index()"
   ]
  },
  {
   "cell_type": "code",
   "execution_count": 7,
   "metadata": {},
   "outputs": [
    {
     "name": "stdout",
     "output_type": "stream",
     "text": [
      "Context_str: \n"
     ]
    }
   ],
   "source": [
    "# Similarity search test\n",
    "user_query = \"Who teaches SC1007?\"\n",
    "retrieved_docs = kb.kb_manager.similarity_search(user_query)\n",
    "\n",
    "context_str=\"\"\n",
    "\n",
    "for doc in retrieved_docs:\n",
    "    context_str.append(doc[\"content\"])\n",
    "\n",
    "# Retrieve context from kb_manager\n",
    "print(\"Context_str:\" ,context_str)\n"
   ]
  },
  {
   "cell_type": "code",
   "execution_count": 7,
   "metadata": {},
   "outputs": [
    {
     "name": "stdout",
     "output_type": "stream",
     "text": [
      "QUERY\n"
     ]
    }
   ],
   "source": [
    "def classify_query(context_str:str, query:str):\n",
    "\n",
    "    # Form system prompt\n",
    "    system_prompt = f\"\"\"\n",
    "                        You are given a context and a query. Determine whether the context provides sufficient information to answer the query.\n",
    "\n",
    "                        If the context is enough to answer the query, respond to the query using the context.\n",
    "\n",
    "                        If the context is insufficient to answer the query, respond with \"QUERY\" only.\n",
    "s\n",
    "                        Context: {context_str}\n",
    "                        Query: {query}\n",
    "                        \"\"\"\n",
    "\n",
    "    llm_response = llm.invoke(system_prompt).content\n",
    "\n",
    "    return llm_response\n",
    "\n",
    "print(classify_query(context_str, user_query))"
   ]
  },
  {
   "cell_type": "code",
   "execution_count": 8,
   "metadata": {},
   "outputs": [],
   "source": [
    "if (\"QUERY\" in classify_query(context_str, user_query)):\n",
    "    # add to admin applicaiton QnA database\n",
    "    kb.qna_manager.add_unanswered_question(user_query)\n"
   ]
  },
  {
   "cell_type": "code",
   "execution_count": 12,
   "metadata": {},
   "outputs": [
    {
     "name": "stdout",
     "output_type": "stream",
     "text": [
      "Added Updated Questions & Answers 1!\n"
     ]
    },
    {
     "data": {
      "text/plain": [
       "True"
      ]
     },
     "execution_count": 12,
     "metadata": {},
     "output_type": "execute_result"
    }
   ],
   "source": [
    "# function to sync qna db to kb\n",
    "kb.sync_qna_to_kb()"
   ]
  },
  {
   "cell_type": "code",
   "execution_count": null,
   "metadata": {},
   "outputs": [],
   "source": []
  }
 ],
 "metadata": {
  "kernelspec": {
   "display_name": "coursegenie",
   "language": "python",
   "name": "python3"
  },
  "language_info": {
   "codemirror_mode": {
    "name": "ipython",
    "version": 3
   },
   "file_extension": ".py",
   "mimetype": "text/x-python",
   "name": "python",
   "nbconvert_exporter": "python",
   "pygments_lexer": "ipython3",
   "version": "3.12.7"
  }
 },
 "nbformat": 4,
 "nbformat_minor": 2
}
