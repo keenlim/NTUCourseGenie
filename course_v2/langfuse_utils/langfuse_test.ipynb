{
 "cells": [
  {
   "cell_type": "code",
   "execution_count": null,
   "metadata": {},
   "outputs": [],
   "source": [
    "from langfuse.callback import CallbackHandler\n",
    "langfuse_handler = CallbackHandler(\n",
    "    public_key=\"pk-lf-9dcd4a07-fc78-4d0b-a646-a7ef65528960\",\n",
    "    secret_key=\"sk-lf-6143d3b6-00a2-471f-a549-afd1b36165d4\",\n",
    "    host=\"https://us.cloud.langfuse.com\"\n",
    ")\n",
    "\n",
    "# <Your Langchain code here>\n",
    " \n",
    "# Add handler to run/invoke/call/chat\n",
    "chain.invoke({\"input\": \"<user_input>\"}, config={\"callbacks\": [langfuse_handler]})"
   ]
  }
 ],
 "metadata": {
  "kernelspec": {
   "display_name": ".venv",
   "language": "python",
   "name": "python3"
  },
  "language_info": {
   "name": "python",
   "version": "3.12.7"
  }
 },
 "nbformat": 4,
 "nbformat_minor": 2
}
