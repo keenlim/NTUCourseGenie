{
 "cells": [
  {
   "cell_type": "code",
   "execution_count": 1,
   "metadata": {},
   "outputs": [
    {
     "data": {
      "text/plain": [
       "True"
      ]
     },
     "execution_count": 1,
     "metadata": {},
     "output_type": "execute_result"
    }
   ],
   "source": [
    "import os\n",
    "from azure.cosmos import CosmosClient\n",
    "from dotenv import load_dotenv \n",
    "\n",
    "load_dotenv(override=True)"
   ]
  },
  {
   "cell_type": "code",
   "execution_count": 2,
   "metadata": {},
   "outputs": [],
   "source": [
    "cosmos_uri = os.environ['ACCOUNT_URI']\n",
    "primary_key = os.environ['ACCOUNT_KEY']\n",
    "client = client = CosmosClient(cosmos_uri, primary_key)"
   ]
  },
  {
   "cell_type": "code",
   "execution_count": 3,
   "metadata": {},
   "outputs": [],
   "source": [
    "# Access the database and container\n",
    "database = client.get_database_client(\"coursegenie\")\n",
    "container = database.get_container_client(\"feedback\")\n"
   ]
  },
  {
   "cell_type": "code",
   "execution_count": 5,
   "metadata": {},
   "outputs": [
    {
     "data": {
      "text/plain": [
       "{'id': 'item2',\n",
       " 'partitionKey': '/id',\n",
       " 'rating': 'Good',\n",
       " 'reason': 'This is very good',\n",
       " 'query': 'Tell me more about SC1005',\n",
       " 'response': 'SC1003 is intro to computational thinking',\n",
       " '_rid': 'b8QOAI2skNICAAAAAAAAAA==',\n",
       " '_self': 'dbs/b8QOAA==/colls/b8QOAI2skNI=/docs/b8QOAI2skNICAAAAAAAAAA==/',\n",
       " '_etag': '\"1901aee5-0000-1900-0000-6756ee2d0000\"',\n",
       " '_attachments': 'attachments/',\n",
       " '_ts': 1733750317}"
      ]
     },
     "execution_count": 5,
     "metadata": {},
     "output_type": "execute_result"
    }
   ],
   "source": [
    "# Insert an item\n",
    "item = {\n",
    "    'id': 'item2',\n",
    "    'partitionKey': '/id',\n",
    "    'rating': 'Good',\n",
    "    'reason': 'This is very good',\n",
    "    'query': 'Tell me more about SC1005',\n",
    "    'response': 'SC1003 is intro to computational thinking'\n",
    "}\n",
    "\n",
    "container.upsert_item(item)"
   ]
  },
  {
   "cell_type": "code",
   "execution_count": null,
   "metadata": {},
   "outputs": [],
   "source": []
  }
 ],
 "metadata": {
  "kernelspec": {
   "display_name": ".venv",
   "language": "python",
   "name": "python3"
  },
  "language_info": {
   "codemirror_mode": {
    "name": "ipython",
    "version": 3
   },
   "file_extension": ".py",
   "mimetype": "text/x-python",
   "name": "python",
   "nbconvert_exporter": "python",
   "pygments_lexer": "ipython3",
   "version": "3.12.7"
  }
 },
 "nbformat": 4,
 "nbformat_minor": 2
}
